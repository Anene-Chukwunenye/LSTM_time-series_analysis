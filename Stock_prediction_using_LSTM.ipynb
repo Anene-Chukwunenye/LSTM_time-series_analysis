{
  "nbformat": 4,
  "nbformat_minor": 0,
  "metadata": {
    "colab": {
      "provenance": []
    },
    "kernelspec": {
      "name": "python3",
      "display_name": "Python 3"
    },
    "language_info": {
      "name": "python"
    },
    "accelerator": "GPU",
    "gpuClass": "standard"
  },
  "cells": [
    {
      "cell_type": "markdown",
      "source": [
        "# Stock predication using LSTM \n",
        "### The Microsoft(MSFT) stocks was used for the project.\n",
        "#### Link for data:https://finance.yahoo.com/quote/MSFT/history\n",
        "\n",
        "#### Select 'Max' in order to have access to the entire data history.The starting date was 1986-03-13 "
      ],
      "metadata": {
        "id": "pMc8IaTC3SfZ"
      }
    },
    {
      "cell_type": "code",
      "execution_count": 1,
      "metadata": {
        "id": "KiFkXOdy01yn"
      },
      "outputs": [],
      "source": [
        "import pandas as pd\n",
        "import numpy as np\n",
        "import matplotlib.pyplot as plt"
      ]
    },
    {
      "cell_type": "code",
      "source": [
        "data= pd.read_csv('MSFT.csv')"
      ],
      "metadata": {
        "id": "iFQzcWds1IDI"
      },
      "execution_count": 2,
      "outputs": []
    },
    {
      "cell_type": "code",
      "source": [
        "data.head()"
      ],
      "metadata": {
        "colab": {
          "base_uri": "https://localhost:8080/",
          "height": 206
        },
        "id": "sDHSSWYC4LCi",
        "outputId": "8f6b420f-679e-46d8-b41a-baee45289b2e"
      },
      "execution_count": 3,
      "outputs": [
        {
          "output_type": "execute_result",
          "data": {
            "text/plain": [
              "         Date      Open      High       Low     Close  Adj Close      Volume\n",
              "0  1986-03-13  0.088542  0.101563  0.088542  0.097222   0.060657  1031788800\n",
              "1  1986-03-14  0.097222  0.102431  0.097222  0.100694   0.062823   308160000\n",
              "2  1986-03-17  0.100694  0.103299  0.100694  0.102431   0.063907   133171200\n",
              "3  1986-03-18  0.102431  0.103299  0.098958  0.099826   0.062281    67766400\n",
              "4  1986-03-19  0.099826  0.100694  0.097222  0.098090   0.061198    47894400"
            ],
            "text/html": [
              "\n",
              "  <div id=\"df-92dab941-6e83-4332-8d79-c138b5a5be80\">\n",
              "    <div class=\"colab-df-container\">\n",
              "      <div>\n",
              "<style scoped>\n",
              "    .dataframe tbody tr th:only-of-type {\n",
              "        vertical-align: middle;\n",
              "    }\n",
              "\n",
              "    .dataframe tbody tr th {\n",
              "        vertical-align: top;\n",
              "    }\n",
              "\n",
              "    .dataframe thead th {\n",
              "        text-align: right;\n",
              "    }\n",
              "</style>\n",
              "<table border=\"1\" class=\"dataframe\">\n",
              "  <thead>\n",
              "    <tr style=\"text-align: right;\">\n",
              "      <th></th>\n",
              "      <th>Date</th>\n",
              "      <th>Open</th>\n",
              "      <th>High</th>\n",
              "      <th>Low</th>\n",
              "      <th>Close</th>\n",
              "      <th>Adj Close</th>\n",
              "      <th>Volume</th>\n",
              "    </tr>\n",
              "  </thead>\n",
              "  <tbody>\n",
              "    <tr>\n",
              "      <th>0</th>\n",
              "      <td>1986-03-13</td>\n",
              "      <td>0.088542</td>\n",
              "      <td>0.101563</td>\n",
              "      <td>0.088542</td>\n",
              "      <td>0.097222</td>\n",
              "      <td>0.060657</td>\n",
              "      <td>1031788800</td>\n",
              "    </tr>\n",
              "    <tr>\n",
              "      <th>1</th>\n",
              "      <td>1986-03-14</td>\n",
              "      <td>0.097222</td>\n",
              "      <td>0.102431</td>\n",
              "      <td>0.097222</td>\n",
              "      <td>0.100694</td>\n",
              "      <td>0.062823</td>\n",
              "      <td>308160000</td>\n",
              "    </tr>\n",
              "    <tr>\n",
              "      <th>2</th>\n",
              "      <td>1986-03-17</td>\n",
              "      <td>0.100694</td>\n",
              "      <td>0.103299</td>\n",
              "      <td>0.100694</td>\n",
              "      <td>0.102431</td>\n",
              "      <td>0.063907</td>\n",
              "      <td>133171200</td>\n",
              "    </tr>\n",
              "    <tr>\n",
              "      <th>3</th>\n",
              "      <td>1986-03-18</td>\n",
              "      <td>0.102431</td>\n",
              "      <td>0.103299</td>\n",
              "      <td>0.098958</td>\n",
              "      <td>0.099826</td>\n",
              "      <td>0.062281</td>\n",
              "      <td>67766400</td>\n",
              "    </tr>\n",
              "    <tr>\n",
              "      <th>4</th>\n",
              "      <td>1986-03-19</td>\n",
              "      <td>0.099826</td>\n",
              "      <td>0.100694</td>\n",
              "      <td>0.097222</td>\n",
              "      <td>0.098090</td>\n",
              "      <td>0.061198</td>\n",
              "      <td>47894400</td>\n",
              "    </tr>\n",
              "  </tbody>\n",
              "</table>\n",
              "</div>\n",
              "      <button class=\"colab-df-convert\" onclick=\"convertToInteractive('df-92dab941-6e83-4332-8d79-c138b5a5be80')\"\n",
              "              title=\"Convert this dataframe to an interactive table.\"\n",
              "              style=\"display:none;\">\n",
              "        \n",
              "  <svg xmlns=\"http://www.w3.org/2000/svg\" height=\"24px\"viewBox=\"0 0 24 24\"\n",
              "       width=\"24px\">\n",
              "    <path d=\"M0 0h24v24H0V0z\" fill=\"none\"/>\n",
              "    <path d=\"M18.56 5.44l.94 2.06.94-2.06 2.06-.94-2.06-.94-.94-2.06-.94 2.06-2.06.94zm-11 1L8.5 8.5l.94-2.06 2.06-.94-2.06-.94L8.5 2.5l-.94 2.06-2.06.94zm10 10l.94 2.06.94-2.06 2.06-.94-2.06-.94-.94-2.06-.94 2.06-2.06.94z\"/><path d=\"M17.41 7.96l-1.37-1.37c-.4-.4-.92-.59-1.43-.59-.52 0-1.04.2-1.43.59L10.3 9.45l-7.72 7.72c-.78.78-.78 2.05 0 2.83L4 21.41c.39.39.9.59 1.41.59.51 0 1.02-.2 1.41-.59l7.78-7.78 2.81-2.81c.8-.78.8-2.07 0-2.86zM5.41 20L4 18.59l7.72-7.72 1.47 1.35L5.41 20z\"/>\n",
              "  </svg>\n",
              "      </button>\n",
              "      \n",
              "  <style>\n",
              "    .colab-df-container {\n",
              "      display:flex;\n",
              "      flex-wrap:wrap;\n",
              "      gap: 12px;\n",
              "    }\n",
              "\n",
              "    .colab-df-convert {\n",
              "      background-color: #E8F0FE;\n",
              "      border: none;\n",
              "      border-radius: 50%;\n",
              "      cursor: pointer;\n",
              "      display: none;\n",
              "      fill: #1967D2;\n",
              "      height: 32px;\n",
              "      padding: 0 0 0 0;\n",
              "      width: 32px;\n",
              "    }\n",
              "\n",
              "    .colab-df-convert:hover {\n",
              "      background-color: #E2EBFA;\n",
              "      box-shadow: 0px 1px 2px rgba(60, 64, 67, 0.3), 0px 1px 3px 1px rgba(60, 64, 67, 0.15);\n",
              "      fill: #174EA6;\n",
              "    }\n",
              "\n",
              "    [theme=dark] .colab-df-convert {\n",
              "      background-color: #3B4455;\n",
              "      fill: #D2E3FC;\n",
              "    }\n",
              "\n",
              "    [theme=dark] .colab-df-convert:hover {\n",
              "      background-color: #434B5C;\n",
              "      box-shadow: 0px 1px 3px 1px rgba(0, 0, 0, 0.15);\n",
              "      filter: drop-shadow(0px 1px 2px rgba(0, 0, 0, 0.3));\n",
              "      fill: #FFFFFF;\n",
              "    }\n",
              "  </style>\n",
              "\n",
              "      <script>\n",
              "        const buttonEl =\n",
              "          document.querySelector('#df-92dab941-6e83-4332-8d79-c138b5a5be80 button.colab-df-convert');\n",
              "        buttonEl.style.display =\n",
              "          google.colab.kernel.accessAllowed ? 'block' : 'none';\n",
              "\n",
              "        async function convertToInteractive(key) {\n",
              "          const element = document.querySelector('#df-92dab941-6e83-4332-8d79-c138b5a5be80');\n",
              "          const dataTable =\n",
              "            await google.colab.kernel.invokeFunction('convertToInteractive',\n",
              "                                                     [key], {});\n",
              "          if (!dataTable) return;\n",
              "\n",
              "          const docLinkHtml = 'Like what you see? Visit the ' +\n",
              "            '<a target=\"_blank\" href=https://colab.research.google.com/notebooks/data_table.ipynb>data table notebook</a>'\n",
              "            + ' to learn more about interactive tables.';\n",
              "          element.innerHTML = '';\n",
              "          dataTable['output_type'] = 'display_data';\n",
              "          await google.colab.output.renderOutput(dataTable, element);\n",
              "          const docLink = document.createElement('div');\n",
              "          docLink.innerHTML = docLinkHtml;\n",
              "          element.appendChild(docLink);\n",
              "        }\n",
              "      </script>\n",
              "    </div>\n",
              "  </div>\n",
              "  "
            ]
          },
          "metadata": {},
          "execution_count": 3
        }
      ]
    },
    {
      "cell_type": "code",
      "source": [
        "# Indexed the Date column\n",
        "data.index=data.pop('Date')"
      ],
      "metadata": {
        "id": "_64IgJ0W42R-"
      },
      "execution_count": 4,
      "outputs": []
    },
    {
      "cell_type": "code",
      "source": [
        "data.head()"
      ],
      "metadata": {
        "colab": {
          "base_uri": "https://localhost:8080/",
          "height": 237
        },
        "id": "DdR-RFx99uy1",
        "outputId": "4ef58ece-42d4-4c3c-bacf-70b6fb2b3bd6"
      },
      "execution_count": 5,
      "outputs": [
        {
          "output_type": "execute_result",
          "data": {
            "text/plain": [
              "                Open      High       Low     Close  Adj Close      Volume\n",
              "Date                                                                     \n",
              "1986-03-13  0.088542  0.101563  0.088542  0.097222   0.060657  1031788800\n",
              "1986-03-14  0.097222  0.102431  0.097222  0.100694   0.062823   308160000\n",
              "1986-03-17  0.100694  0.103299  0.100694  0.102431   0.063907   133171200\n",
              "1986-03-18  0.102431  0.103299  0.098958  0.099826   0.062281    67766400\n",
              "1986-03-19  0.099826  0.100694  0.097222  0.098090   0.061198    47894400"
            ],
            "text/html": [
              "\n",
              "  <div id=\"df-9b1d9447-6168-4f2e-8252-45ff6183d673\">\n",
              "    <div class=\"colab-df-container\">\n",
              "      <div>\n",
              "<style scoped>\n",
              "    .dataframe tbody tr th:only-of-type {\n",
              "        vertical-align: middle;\n",
              "    }\n",
              "\n",
              "    .dataframe tbody tr th {\n",
              "        vertical-align: top;\n",
              "    }\n",
              "\n",
              "    .dataframe thead th {\n",
              "        text-align: right;\n",
              "    }\n",
              "</style>\n",
              "<table border=\"1\" class=\"dataframe\">\n",
              "  <thead>\n",
              "    <tr style=\"text-align: right;\">\n",
              "      <th></th>\n",
              "      <th>Open</th>\n",
              "      <th>High</th>\n",
              "      <th>Low</th>\n",
              "      <th>Close</th>\n",
              "      <th>Adj Close</th>\n",
              "      <th>Volume</th>\n",
              "    </tr>\n",
              "    <tr>\n",
              "      <th>Date</th>\n",
              "      <th></th>\n",
              "      <th></th>\n",
              "      <th></th>\n",
              "      <th></th>\n",
              "      <th></th>\n",
              "      <th></th>\n",
              "    </tr>\n",
              "  </thead>\n",
              "  <tbody>\n",
              "    <tr>\n",
              "      <th>1986-03-13</th>\n",
              "      <td>0.088542</td>\n",
              "      <td>0.101563</td>\n",
              "      <td>0.088542</td>\n",
              "      <td>0.097222</td>\n",
              "      <td>0.060657</td>\n",
              "      <td>1031788800</td>\n",
              "    </tr>\n",
              "    <tr>\n",
              "      <th>1986-03-14</th>\n",
              "      <td>0.097222</td>\n",
              "      <td>0.102431</td>\n",
              "      <td>0.097222</td>\n",
              "      <td>0.100694</td>\n",
              "      <td>0.062823</td>\n",
              "      <td>308160000</td>\n",
              "    </tr>\n",
              "    <tr>\n",
              "      <th>1986-03-17</th>\n",
              "      <td>0.100694</td>\n",
              "      <td>0.103299</td>\n",
              "      <td>0.100694</td>\n",
              "      <td>0.102431</td>\n",
              "      <td>0.063907</td>\n",
              "      <td>133171200</td>\n",
              "    </tr>\n",
              "    <tr>\n",
              "      <th>1986-03-18</th>\n",
              "      <td>0.102431</td>\n",
              "      <td>0.103299</td>\n",
              "      <td>0.098958</td>\n",
              "      <td>0.099826</td>\n",
              "      <td>0.062281</td>\n",
              "      <td>67766400</td>\n",
              "    </tr>\n",
              "    <tr>\n",
              "      <th>1986-03-19</th>\n",
              "      <td>0.099826</td>\n",
              "      <td>0.100694</td>\n",
              "      <td>0.097222</td>\n",
              "      <td>0.098090</td>\n",
              "      <td>0.061198</td>\n",
              "      <td>47894400</td>\n",
              "    </tr>\n",
              "  </tbody>\n",
              "</table>\n",
              "</div>\n",
              "      <button class=\"colab-df-convert\" onclick=\"convertToInteractive('df-9b1d9447-6168-4f2e-8252-45ff6183d673')\"\n",
              "              title=\"Convert this dataframe to an interactive table.\"\n",
              "              style=\"display:none;\">\n",
              "        \n",
              "  <svg xmlns=\"http://www.w3.org/2000/svg\" height=\"24px\"viewBox=\"0 0 24 24\"\n",
              "       width=\"24px\">\n",
              "    <path d=\"M0 0h24v24H0V0z\" fill=\"none\"/>\n",
              "    <path d=\"M18.56 5.44l.94 2.06.94-2.06 2.06-.94-2.06-.94-.94-2.06-.94 2.06-2.06.94zm-11 1L8.5 8.5l.94-2.06 2.06-.94-2.06-.94L8.5 2.5l-.94 2.06-2.06.94zm10 10l.94 2.06.94-2.06 2.06-.94-2.06-.94-.94-2.06-.94 2.06-2.06.94z\"/><path d=\"M17.41 7.96l-1.37-1.37c-.4-.4-.92-.59-1.43-.59-.52 0-1.04.2-1.43.59L10.3 9.45l-7.72 7.72c-.78.78-.78 2.05 0 2.83L4 21.41c.39.39.9.59 1.41.59.51 0 1.02-.2 1.41-.59l7.78-7.78 2.81-2.81c.8-.78.8-2.07 0-2.86zM5.41 20L4 18.59l7.72-7.72 1.47 1.35L5.41 20z\"/>\n",
              "  </svg>\n",
              "      </button>\n",
              "      \n",
              "  <style>\n",
              "    .colab-df-container {\n",
              "      display:flex;\n",
              "      flex-wrap:wrap;\n",
              "      gap: 12px;\n",
              "    }\n",
              "\n",
              "    .colab-df-convert {\n",
              "      background-color: #E8F0FE;\n",
              "      border: none;\n",
              "      border-radius: 50%;\n",
              "      cursor: pointer;\n",
              "      display: none;\n",
              "      fill: #1967D2;\n",
              "      height: 32px;\n",
              "      padding: 0 0 0 0;\n",
              "      width: 32px;\n",
              "    }\n",
              "\n",
              "    .colab-df-convert:hover {\n",
              "      background-color: #E2EBFA;\n",
              "      box-shadow: 0px 1px 2px rgba(60, 64, 67, 0.3), 0px 1px 3px 1px rgba(60, 64, 67, 0.15);\n",
              "      fill: #174EA6;\n",
              "    }\n",
              "\n",
              "    [theme=dark] .colab-df-convert {\n",
              "      background-color: #3B4455;\n",
              "      fill: #D2E3FC;\n",
              "    }\n",
              "\n",
              "    [theme=dark] .colab-df-convert:hover {\n",
              "      background-color: #434B5C;\n",
              "      box-shadow: 0px 1px 3px 1px rgba(0, 0, 0, 0.15);\n",
              "      filter: drop-shadow(0px 1px 2px rgba(0, 0, 0, 0.3));\n",
              "      fill: #FFFFFF;\n",
              "    }\n",
              "  </style>\n",
              "\n",
              "      <script>\n",
              "        const buttonEl =\n",
              "          document.querySelector('#df-9b1d9447-6168-4f2e-8252-45ff6183d673 button.colab-df-convert');\n",
              "        buttonEl.style.display =\n",
              "          google.colab.kernel.accessAllowed ? 'block' : 'none';\n",
              "\n",
              "        async function convertToInteractive(key) {\n",
              "          const element = document.querySelector('#df-9b1d9447-6168-4f2e-8252-45ff6183d673');\n",
              "          const dataTable =\n",
              "            await google.colab.kernel.invokeFunction('convertToInteractive',\n",
              "                                                     [key], {});\n",
              "          if (!dataTable) return;\n",
              "\n",
              "          const docLinkHtml = 'Like what you see? Visit the ' +\n",
              "            '<a target=\"_blank\" href=https://colab.research.google.com/notebooks/data_table.ipynb>data table notebook</a>'\n",
              "            + ' to learn more about interactive tables.';\n",
              "          element.innerHTML = '';\n",
              "          dataTable['output_type'] = 'display_data';\n",
              "          await google.colab.output.renderOutput(dataTable, element);\n",
              "          const docLink = document.createElement('div');\n",
              "          docLink.innerHTML = docLinkHtml;\n",
              "          element.appendChild(docLink);\n",
              "        }\n",
              "      </script>\n",
              "    </div>\n",
              "  </div>\n",
              "  "
            ]
          },
          "metadata": {},
          "execution_count": 5
        }
      ]
    },
    {
      "cell_type": "markdown",
      "source": [
        "### For the sake of this project, we are going to use the 'Close' feature. That is the closing price of the stock for that day"
      ],
      "metadata": {
        "id": "yNQZW79u6AKn"
      }
    },
    {
      "cell_type": "code",
      "source": [
        "close= data['Close']"
      ],
      "metadata": {
        "id": "VXdST2bw3req"
      },
      "execution_count": 6,
      "outputs": []
    },
    {
      "cell_type": "code",
      "source": [
        "close.head()"
      ],
      "metadata": {
        "colab": {
          "base_uri": "https://localhost:8080/"
        },
        "id": "0A0EUhxb7Gbd",
        "outputId": "2e6afd29-47d9-4863-d6b2-814abd9d46d3"
      },
      "execution_count": 7,
      "outputs": [
        {
          "output_type": "execute_result",
          "data": {
            "text/plain": [
              "Date\n",
              "1986-03-13    0.097222\n",
              "1986-03-14    0.100694\n",
              "1986-03-17    0.102431\n",
              "1986-03-18    0.099826\n",
              "1986-03-19    0.098090\n",
              "Name: Close, dtype: float64"
            ]
          },
          "metadata": {},
          "execution_count": 7
        }
      ]
    },
    {
      "cell_type": "code",
      "source": [
        "close.plot()"
      ],
      "metadata": {
        "colab": {
          "base_uri": "https://localhost:8080/",
          "height": 467
        },
        "id": "d-lMqyrC4tsf",
        "outputId": "cec681e1-23b3-4901-abf0-26dfc9c26292"
      },
      "execution_count": 8,
      "outputs": [
        {
          "output_type": "execute_result",
          "data": {
            "text/plain": [
              "<Axes: xlabel='Date'>"
            ]
          },
          "metadata": {},
          "execution_count": 8
        },
        {
          "output_type": "display_data",
          "data": {
            "text/plain": [
              "<Figure size 640x480 with 1 Axes>"
            ],
            "image/png": "[encoded data removed]"
          },
          "metadata": {}
        }
      ]
    },
    {
      "cell_type": "code",
      "source": [
        "# Going to have to preprocess the dataset\n",
        "\n",
        "from sklearn.preprocessing import MinMaxScaler"
      ],
      "metadata": {
        "id": "PYM5g4m_-qyK"
      },
      "execution_count": 9,
      "outputs": []
    },
    {
      "cell_type": "code",
      "source": [
        "#Using MinMaxScaler for normalizing data between 0 & 1\n",
        "normalizer = MinMaxScaler(feature_range=(0,1))\n",
        "data_scaled = normalizer.fit_transform(np.array(close).reshape(-1,1))\n"
      ],
      "metadata": {
        "id": "TZFmqpVfB-yp"
      },
      "execution_count": 10,
      "outputs": []
    },
    {
      "cell_type": "code",
      "source": [],
      "metadata": {
        "id": "cIsE3X86Pvpc"
      },
      "execution_count": 10,
      "outputs": []
    },
    {
      "cell_type": "markdown",
      "source": [
        "### Splitting the dataset into training and testing data"
      ],
      "metadata": {
        "id": "yXEFU-_vHqG4"
      }
    },
    {
      "cell_type": "code",
      "source": [
        "#Defining test and train data sizes. Used 85% for training\n",
        "train_size = int(len(data_scaled)*0.85)\n",
        "test_size = len(data_scaled) - train_size"
      ],
      "metadata": {
        "id": "-sCWHhdpH3vA"
      },
      "execution_count": 11,
      "outputs": []
    },
    {
      "cell_type": "code",
      "source": [
        "train_size, test_size"
      ],
      "metadata": {
        "colab": {
          "base_uri": "https://localhost:8080/"
        },
        "id": "wczhtix6IK0o",
        "outputId": "af598b52-1460-4baa-8202-d9b361c2c666"
      },
      "execution_count": 12,
      "outputs": [
        {
          "output_type": "execute_result",
          "data": {
            "text/plain": [
              "(7954, 1404)"
            ]
          },
          "metadata": {},
          "execution_count": 12
        }
      ]
    },
    {
      "cell_type": "code",
      "source": [
        "#Splitting data between train and test\n",
        "data_train, data_test = data_scaled[0:train_size,:], data_scaled[train_size:len(data_scaled),:1]"
      ],
      "metadata": {
        "id": "r87SN1ntQXJr"
      },
      "execution_count": 13,
      "outputs": []
    },
    {
      "cell_type": "markdown",
      "source": [
        "## Creating a sliding window"
      ],
      "metadata": {
        "id": "kJDrhsDICh70"
      }
    },
    {
      "cell_type": "code",
      "source": [
        "#sliding function\n",
        "\n",
        "def create_sliding_data(dataset,step):\n",
        "    xtrain, ytrain = [], []\n",
        "    for i in range(len(dataset)-step-1):\n",
        "        a = dataset[i:(i+step), 0]\n",
        "        xtrain.append(a)\n",
        "        ytrain.append(dataset[i + step, 0])\n",
        "    return np.array(xtrain), np.array(ytrain)"
      ],
      "metadata": {
        "id": "SsXSJ2PTCwc6"
      },
      "execution_count": 14,
      "outputs": []
    },
    {
      "cell_type": "code",
      "source": [
        "#We will use the price of 10 days price in order to make the prediction for the 11th day.\n",
        "# Using the 'create_sliding_data' function\n",
        "time_stamp = 10\n",
        "x_train, y_train = create_sliding_data(data_train,time_stamp)\n",
        "x_test, y_test = create_sliding_data(data_test,time_stamp)"
      ],
      "metadata": {
        "id": "hUPwz9FDSUnE"
      },
      "execution_count": 15,
      "outputs": []
    },
    {
      "cell_type": "code",
      "source": [
        "x_train.shape,y_train.shape"
      ],
      "metadata": {
        "colab": {
          "base_uri": "https://localhost:8080/"
        },
        "id": "YzNoim_4fBut",
        "outputId": "9c2f54af-a95d-4369-f2a3-dc42a6b4f0b3"
      },
      "execution_count": 16,
      "outputs": [
        {
          "output_type": "execute_result",
          "data": {
            "text/plain": [
              "((7943, 10), (7943,))"
            ]
          },
          "metadata": {},
          "execution_count": 16
        }
      ]
    },
    {
      "cell_type": "code",
      "source": [
        "#Reshaping data to fit into LSTM model\n",
        "x_train = x_train.reshape(x_train.shape[0],x_train.shape[1] , 1)\n",
        "x_test = x_test.reshape(x_test.shape[0],x_test.shape[1] , 1)"
      ],
      "metadata": {
        "id": "O61_b__rfF83"
      },
      "execution_count": 17,
      "outputs": []
    },
    {
      "cell_type": "markdown",
      "source": [
        "# Model Creation"
      ],
      "metadata": {
        "id": "mL_vQJAWjWKc"
      }
    },
    {
      "cell_type": "code",
      "source": [
        "from tensorflow.keras.models import Sequential\n",
        "from tensorflow.keras.layers import *\n",
        "from tensorflow.keras.callbacks import ModelCheckpoint\n",
        "from tensorflow.keras.losses import MeanSquaredError\n",
        "from tensorflow.keras.metrics import RootMeanSquaredError\n",
        "from tensorflow.keras.optimizers import Adam"
      ],
      "metadata": {
        "id": "zdo_l_FLgtYy"
      },
      "execution_count": 18,
      "outputs": []
    },
    {
      "cell_type": "code",
      "source": [
        "model = Sequential()\n",
        "model.add(InputLayer((10, 1)))\n",
        "model.add(LSTM(64,return_sequences=True, activation='relu'))\n",
        "model.add(LSTM(64))\n",
        "model.add(Dense(8, 'relu'))\n",
        "model.add(Dense(8, 'relu'))\n",
        "model.add(Dense(1, 'linear'))\n",
        "\n",
        "model.summary()"
      ],
      "metadata": {
        "colab": {
          "base_uri": "https://localhost:8080/"
        },
        "id": "hkvLuUCchUAy",
        "outputId": "0dfdec35-bb32-4565-f65f-a99ff7712dbc"
      },
      "execution_count": 19,
      "outputs": [
        {
          "output_type": "stream",
          "name": "stderr",
          "text": [
            "WARNING:tensorflow:Layer lstm will not use cuDNN kernels since it doesn't meet the criteria. It will use a generic GPU kernel as fallback when running on GPU.\n"
          ]
        },
        {
          "output_type": "stream",
          "name": "stdout",
          "text": [
            "Model: \"sequential\"\n",
            "_________________________________________________________________\n",
            " Layer (type)                Output Shape              Param #   \n",
            "=================================================================\n",
            " lstm (LSTM)                 (None, 10, 64)            16896     \n",
            "                                                                 \n",
            " lstm_1 (LSTM)               (None, 64)                33024     \n",
            "                                                                 \n",
            " dense (Dense)               (None, 8)                 520       \n",
            "                                                                 \n",
            " dense_1 (Dense)             (None, 8)                 72        \n",
            "                                                                 \n",
            " dense_2 (Dense)             (None, 1)                 9         \n",
            "                                                                 \n",
            "=================================================================\n",
            "Total params: 50,521\n",
            "Trainable params: 50,521\n",
            "Non-trainable params: 0\n",
            "_________________________________________________________________\n"
          ]
        }
      ]
    },
    {
      "cell_type": "code",
      "source": [
        "# created a model checkpoint and compiled the model\n",
        "cp = ModelCheckpoint('model/', save_best_only=True)\n",
        "model.compile(loss=MeanSquaredError(), optimizer=Adam(learning_rate=0.0001), metrics=[RootMeanSquaredError()])"
      ],
      "metadata": {
        "id": "hqiYYi23iCAQ"
      },
      "execution_count": 20,
      "outputs": []
    },
    {
      "cell_type": "code",
      "source": [
        "model.fit(x_train, y_train, validation_data=(x_test, y_test), epochs=100, callbacks=[cp])"
      ],
      "metadata": {
        "colab": {
          "base_uri": "https://localhost:8080/"
        },
        "id": "1cJx57S-kHB4",
        "outputId": "61548d0a-789e-45ab-ce69-53f3930a3dee"
      },
      "execution_count": 21,
      "outputs": [
        {
          "metadata": {
            "tags": null
          },
          "name": "stdout",
          "output_type": "stream",
          "text": [
            "Epoch 1/100\n",
            "249/249 [==============================] - ETA: 0s - loss: 0.0024 - root_mean_squared_error: 0.0486"
          ]
        },
        {
          "metadata": {
            "tags": null
          },
          "name": "stderr",
          "output_type": "stream",
          "text": [
            "WARNING:absl:Found untraced functions such as lstm_cell_1_layer_call_fn, lstm_cell_1_layer_call_and_return_conditional_losses while saving (showing 2 of 2). These functions will not be directly callable after loading.\n"
          ]
        },
        {
          "metadata": {
            "tags": null
          },
          "name": "stdout",
          "output_type": "stream",
          "text": [
            "249/249 [==============================] - 23s 53ms/step - loss: 0.0024 - root_mean_squared_error: 0.0486 - val_loss: 0.0626 - val_root_mean_squared_error: 0.2503\n",
            "Epoch 2/100\n",
            "248/249 [============================>.] - ETA: 0s - loss: 1.2632e-05 - root_mean_squared_error: 0.0036"
          ]
        },
        {
          "metadata": {
            "tags": null
          },
          "name": "stderr",
          "output_type": "stream",
          "text": [
            "WARNING:absl:Found untraced functions such as lstm_cell_1_layer_call_fn, lstm_cell_1_layer_call_and_return_conditional_losses while saving (showing 2 of 2). These functions will not be directly callable after loading.\n"
          ]
        },
        {
          "metadata": {
            "tags": null
          },
          "name": "stdout",
          "output_type": "stream",
          "text": [
            "249/249 [==============================] - 12s 49ms/step - loss: 1.2632e-05 - root_mean_squared_error: 0.0036 - val_loss: 0.0427 - val_root_mean_squared_error: 0.2067\n",
            "Epoch 3/100\n",
            "248/249 [============================>.] - ETA: 0s - loss: 1.1845e-05 - root_mean_squared_error: 0.0034"
          ]
        },
        {
          "metadata": {
            "tags": null
          },
          "name": "stderr",
          "output_type": "stream",
          "text": [
            "WARNING:absl:Found untraced functions such as lstm_cell_1_layer_call_fn, lstm_cell_1_layer_call_and_return_conditional_losses while saving (showing 2 of 2). These functions will not be directly callable after loading.\n"
          ]
        },
        {
          "metadata": {
            "tags": null
          },
          "name": "stdout",
          "output_type": "stream",
          "text": [
            "249/249 [==============================] - 13s 51ms/step - loss: 1.1838e-05 - root_mean_squared_error: 0.0034 - val_loss: 0.0406 - val_root_mean_squared_error: 0.2016\n",
            "Epoch 4/100\n",
            "248/249 [============================>.] - ETA: 0s - loss: 1.1733e-05 - root_mean_squared_error: 0.0034"
          ]
        },
        {
          "metadata": {
            "tags": null
          },
          "name": "stderr",
          "output_type": "stream",
          "text": [
            "WARNING:absl:Found untraced functions such as lstm_cell_1_layer_call_fn, lstm_cell_1_layer_call_and_return_conditional_losses while saving (showing 2 of 2). These functions will not be directly callable after loading.\n"
          ]
        },
        {
          "metadata": {
            "tags": null
          },
          "name": "stdout",
          "output_type": "stream",
          "text": [
            "249/249 [==============================] - 12s 48ms/step - loss: 1.1726e-05 - root_mean_squared_error: 0.0034 - val_loss: 0.0397 - val_root_mean_squared_error: 0.1992\n",
            "Epoch 5/100\n",
            "248/249 [============================>.] - ETA: 0s - loss: 1.2064e-05 - root_mean_squared_error: 0.0035"
          ]
        },
        {
          "metadata": {
            "tags": null
          },
          "name": "stderr",
          "output_type": "stream",
          "text": [
            "WARNING:absl:Found untraced functions such as lstm_cell_1_layer_call_fn, lstm_cell_1_layer_call_and_return_conditional_losses while saving (showing 2 of 2). These functions will not be directly callable after loading.\n"
          ]
        },
        {
          "metadata": {
            "tags": null
          },
          "name": "stdout",
          "output_type": "stream",
          "text": [
            "249/249 [==============================] - 12s 50ms/step - loss: 1.2059e-05 - root_mean_squared_error: 0.0035 - val_loss: 0.0391 - val_root_mean_squared_error: 0.1978\n",
            "Epoch 6/100\n",
            "248/249 [============================>.] - ETA: 0s - loss: 1.1377e-05 - root_mean_squared_error: 0.0034"
          ]
        },
        {
          "metadata": {
            "tags": null
          },
          "name": "stderr",
          "output_type": "stream",
          "text": [
            "WARNING:absl:Found untraced functions such as lstm_cell_1_layer_call_fn, lstm_cell_1_layer_call_and_return_conditional_losses while saving (showing 2 of 2). These functions will not be directly callable after loading.\n"
          ]
        },
        {
          "metadata": {
            "tags": null
          },
          "name": "stdout",
          "output_type": "stream",
          "text": [
            "249/249 [==============================] - 12s 50ms/step - loss: 1.1368e-05 - root_mean_squared_error: 0.0034 - val_loss: 0.0388 - val_root_mean_squared_error: 0.1969\n",
            "Epoch 7/100\n",
            "249/249 [==============================] - ETA: 0s - loss: 1.1462e-05 - root_mean_squared_error: 0.0034"
          ]
        },
        {
          "metadata": {
            "tags": null
          },
          "name": "stderr",
          "output_type": "stream",
          "text": [
            "WARNING:absl:Found untraced functions such as lstm_cell_1_layer_call_fn, lstm_cell_1_layer_call_and_return_conditional_losses while saving (showing 2 of 2). These functions will not be directly callable after loading.\n"
          ]
        },
        {
          "metadata": {
            "tags": null
          },
          "name": "stdout",
          "output_type": "stream",
          "text": [
            "249/249 [==============================] - 12s 49ms/step - loss: 1.1462e-05 - root_mean_squared_error: 0.0034 - val_loss: 0.0386 - val_root_mean_squared_error: 0.1964\n",
            "Epoch 8/100\n",
            "249/249 [==============================] - 6s 24ms/step - loss: 1.1592e-05 - root_mean_squared_error: 0.0034 - val_loss: 0.0387 - val_root_mean_squared_error: 0.1968\n",
            "Epoch 9/100\n",
            "249/249 [==============================] - 7s 29ms/step - loss: 1.1565e-05 - root_mean_squared_error: 0.0034 - val_loss: 0.0392 - val_root_mean_squared_error: 0.1981\n",
            "Epoch 10/100\n",
            "247/249 [============================>.] - ETA: 0s - loss: 1.1659e-05 - root_mean_squared_error: 0.0034"
          ]
        },
        {
          "metadata": {
            "tags": null
          },
          "name": "stderr",
          "output_type": "stream",
          "text": [
            "WARNING:absl:Found untraced functions such as lstm_cell_1_layer_call_fn, lstm_cell_1_layer_call_and_return_conditional_losses while saving (showing 2 of 2). These functions will not be directly callable after loading.\n"
          ]
        },
        {
          "metadata": {
            "tags": null
          },
          "name": "stdout",
          "output_type": "stream",
          "text": [
            "249/249 [==============================] - 12s 50ms/step - loss: 1.1653e-05 - root_mean_squared_error: 0.0034 - val_loss: 0.0383 - val_root_mean_squared_error: 0.1958\n",
            "Epoch 11/100\n",
            "247/249 [============================>.] - ETA: 0s - loss: 1.1849e-05 - root_mean_squared_error: 0.0034"
          ]
        },
        {
          "metadata": {
            "tags": null
          },
          "name": "stderr",
          "output_type": "stream",
          "text": [
            "WARNING:absl:Found untraced functions such as lstm_cell_1_layer_call_fn, lstm_cell_1_layer_call_and_return_conditional_losses while saving (showing 2 of 2). These functions will not be directly callable after loading.\n"
          ]
        },
        {
          "metadata": {
            "tags": null
          },
          "name": "stdout",
          "output_type": "stream",
          "text": [
            "249/249 [==============================] - 12s 50ms/step - loss: 1.1863e-05 - root_mean_squared_error: 0.0034 - val_loss: 0.0371 - val_root_mean_squared_error: 0.1927\n",
            "Epoch 12/100\n",
            "249/249 [==============================] - 6s 24ms/step - loss: 1.1346e-05 - root_mean_squared_error: 0.0034 - val_loss: 0.0372 - val_root_mean_squared_error: 0.1928\n",
            "Epoch 13/100\n",
            "249/249 [==============================] - 7s 30ms/step - loss: 1.1310e-05 - root_mean_squared_error: 0.0034 - val_loss: 0.0386 - val_root_mean_squared_error: 0.1964\n",
            "Epoch 14/100\n",
            "248/249 [============================>.] - ETA: 0s - loss: 1.1235e-05 - root_mean_squared_error: 0.0034"
          ]
        },
        {
          "metadata": {
            "tags": null
          },
          "name": "stderr",
          "output_type": "stream",
          "text": [
            "WARNING:absl:Found untraced functions such as lstm_cell_1_layer_call_fn, lstm_cell_1_layer_call_and_return_conditional_losses while saving (showing 2 of 2). These functions will not be directly callable after loading.\n"
          ]
        },
        {
          "metadata": {
            "tags": null
          },
          "name": "stdout",
          "output_type": "stream",
          "text": [
            "249/249 [==============================] - 12s 48ms/step - loss: 1.1229e-05 - root_mean_squared_error: 0.0034 - val_loss: 0.0359 - val_root_mean_squared_error: 0.1894\n",
            "Epoch 15/100\n",
            "249/249 [==============================] - 6s 24ms/step - loss: 1.1147e-05 - root_mean_squared_error: 0.0033 - val_loss: 0.0371 - val_root_mean_squared_error: 0.1926\n",
            "Epoch 16/100\n",
            "249/249 [==============================] - 7s 29ms/step - loss: 1.1100e-05 - root_mean_squared_error: 0.0033 - val_loss: 0.0376 - val_root_mean_squared_error: 0.1939\n",
            "Epoch 17/100\n",
            "249/249 [==============================] - 6s 24ms/step - loss: 1.1184e-05 - root_mean_squared_error: 0.0033 - val_loss: 0.0369 - val_root_mean_squared_error: 0.1920\n",
            "Epoch 18/100\n",
            "247/249 [============================>.] - ETA: 0s - loss: 1.0844e-05 - root_mean_squared_error: 0.0033"
          ]
        },
        {
          "metadata": {
            "tags": null
          },
          "name": "stderr",
          "output_type": "stream",
          "text": [
            "WARNING:absl:Found untraced functions such as lstm_cell_1_layer_call_fn, lstm_cell_1_layer_call_and_return_conditional_losses while saving (showing 2 of 2). These functions will not be directly callable after loading.\n"
          ]
        },
        {
          "metadata": {
            "tags": null
          },
          "name": "stdout",
          "output_type": "stream",
          "text": [
            "249/249 [==============================] - 13s 52ms/step - loss: 1.0826e-05 - root_mean_squared_error: 0.0033 - val_loss: 0.0358 - val_root_mean_squared_error: 0.1893\n",
            "Epoch 19/100\n",
            "247/249 [============================>.] - ETA: 0s - loss: 1.0741e-05 - root_mean_squared_error: 0.0033"
          ]
        },
        {
          "metadata": {
            "tags": null
          },
          "name": "stderr",
          "output_type": "stream",
          "text": [
            "WARNING:absl:Found untraced functions such as lstm_cell_1_layer_call_fn, lstm_cell_1_layer_call_and_return_conditional_losses while saving (showing 2 of 2). These functions will not be directly callable after loading.\n"
          ]
        },
        {
          "metadata": {
            "tags": null
          },
          "name": "stdout",
          "output_type": "stream",
          "text": [
            "249/249 [==============================] - 13s 52ms/step - loss: 1.0775e-05 - root_mean_squared_error: 0.0033 - val_loss: 0.0350 - val_root_mean_squared_error: 0.1870\n",
            "Epoch 20/100\n",
            "249/249 [==============================] - 7s 30ms/step - loss: 1.0944e-05 - root_mean_squared_error: 0.0033 - val_loss: 0.0355 - val_root_mean_squared_error: 0.1885\n",
            "Epoch 21/100\n",
            "249/249 [==============================] - ETA: 0s - loss: 1.0402e-05 - root_mean_squared_error: 0.0032"
          ]
        },
        {
          "metadata": {
            "tags": null
          },
          "name": "stderr",
          "output_type": "stream",
          "text": [
            "WARNING:absl:Found untraced functions such as lstm_cell_1_layer_call_fn, lstm_cell_1_layer_call_and_return_conditional_losses while saving (showing 2 of 2). These functions will not be directly callable after loading.\n"
          ]
        },
        {
          "metadata": {
            "tags": null
          },
          "name": "stdout",
          "output_type": "stream",
          "text": [
            "249/249 [==============================] - 12s 49ms/step - loss: 1.0402e-05 - root_mean_squared_error: 0.0032 - val_loss: 0.0346 - val_root_mean_squared_error: 0.1860\n",
            "Epoch 22/100\n",
            "249/249 [==============================] - ETA: 0s - loss: 1.0765e-05 - root_mean_squared_error: 0.0033"
          ]
        },
        {
          "metadata": {
            "tags": null
          },
          "name": "stderr",
          "output_type": "stream",
          "text": [
            "WARNING:absl:Found untraced functions such as lstm_cell_1_layer_call_fn, lstm_cell_1_layer_call_and_return_conditional_losses while saving (showing 2 of 2). These functions will not be directly callable after loading.\n"
          ]
        },
        {
          "metadata": {
            "tags": null
          },
          "name": "stdout",
          "output_type": "stream",
          "text": [
            "249/249 [==============================] - 13s 51ms/step - loss: 1.0765e-05 - root_mean_squared_error: 0.0033 - val_loss: 0.0341 - val_root_mean_squared_error: 0.1845\n",
            "Epoch 23/100\n",
            "249/249 [==============================] - 7s 26ms/step - loss: 1.0738e-05 - root_mean_squared_error: 0.0033 - val_loss: 0.0347 - val_root_mean_squared_error: 0.1864\n",
            "Epoch 24/100\n",
            "249/249 [==============================] - ETA: 0s - loss: 1.0776e-05 - root_mean_squared_error: 0.0033"
          ]
        },
        {
          "metadata": {
            "tags": null
          },
          "name": "stderr",
          "output_type": "stream",
          "text": [
            "WARNING:absl:Found untraced functions such as lstm_cell_1_layer_call_fn, lstm_cell_1_layer_call_and_return_conditional_losses while saving (showing 2 of 2). These functions will not be directly callable after loading.\n"
          ]
        },
        {
          "metadata": {
            "tags": null
          },
          "name": "stdout",
          "output_type": "stream",
          "text": [
            "249/249 [==============================] - 13s 53ms/step - loss: 1.0776e-05 - root_mean_squared_error: 0.0033 - val_loss: 0.0325 - val_root_mean_squared_error: 0.1803\n",
            "Epoch 25/100\n",
            "247/249 [============================>.] - ETA: 0s - loss: 1.0513e-05 - root_mean_squared_error: 0.0032"
          ]
        },
        {
          "metadata": {
            "tags": null
          },
          "name": "stderr",
          "output_type": "stream",
          "text": [
            "WARNING:absl:Found untraced functions such as lstm_cell_1_layer_call_fn, lstm_cell_1_layer_call_and_return_conditional_losses while saving (showing 2 of 2). These functions will not be directly callable after loading.\n"
          ]
        },
        {
          "metadata": {
            "tags": null
          },
          "name": "stdout",
          "output_type": "stream",
          "text": [
            "249/249 [==============================] - 12s 50ms/step - loss: 1.0560e-05 - root_mean_squared_error: 0.0032 - val_loss: 0.0321 - val_root_mean_squared_error: 0.1793\n",
            "Epoch 26/100\n",
            "249/249 [==============================] - 7s 27ms/step - loss: 1.1125e-05 - root_mean_squared_error: 0.0033 - val_loss: 0.0335 - val_root_mean_squared_error: 0.1831\n",
            "Epoch 27/100\n",
            "249/249 [==============================] - 7s 27ms/step - loss: 1.0318e-05 - root_mean_squared_error: 0.0032 - val_loss: 0.0322 - val_root_mean_squared_error: 0.1796\n",
            "Epoch 28/100\n",
            "249/249 [==============================] - ETA: 0s - loss: 1.0011e-05 - root_mean_squared_error: 0.0032"
          ]
        },
        {
          "metadata": {
            "tags": null
          },
          "name": "stderr",
          "output_type": "stream",
          "text": [
            "WARNING:absl:Found untraced functions such as lstm_cell_1_layer_call_fn, lstm_cell_1_layer_call_and_return_conditional_losses while saving (showing 2 of 2). These functions will not be directly callable after loading.\n"
          ]
        },
        {
          "metadata": {
            "tags": null
          },
          "name": "stdout",
          "output_type": "stream",
          "text": [
            "249/249 [==============================] - 12s 49ms/step - loss: 1.0011e-05 - root_mean_squared_error: 0.0032 - val_loss: 0.0314 - val_root_mean_squared_error: 0.1773\n",
            "Epoch 29/100\n",
            "247/249 [============================>.] - ETA: 0s - loss: 1.0254e-05 - root_mean_squared_error: 0.0032"
          ]
        },
        {
          "metadata": {
            "tags": null
          },
          "name": "stderr",
          "output_type": "stream",
          "text": [
            "WARNING:absl:Found untraced functions such as lstm_cell_1_layer_call_fn, lstm_cell_1_layer_call_and_return_conditional_losses while saving (showing 2 of 2). These functions will not be directly callable after loading.\n"
          ]
        },
        {
          "metadata": {
            "tags": null
          },
          "name": "stdout",
          "output_type": "stream",
          "text": [
            "249/249 [==============================] - 12s 48ms/step - loss: 1.0286e-05 - root_mean_squared_error: 0.0032 - val_loss: 0.0296 - val_root_mean_squared_error: 0.1719\n",
            "Epoch 30/100\n",
            "249/249 [==============================] - 6s 24ms/step - loss: 1.0014e-05 - root_mean_squared_error: 0.0032 - val_loss: 0.0301 - val_root_mean_squared_error: 0.1734\n",
            "Epoch 31/100\n",
            "249/249 [==============================] - 7s 27ms/step - loss: 9.9786e-06 - root_mean_squared_error: 0.0032 - val_loss: 0.0314 - val_root_mean_squared_error: 0.1771\n",
            "Epoch 32/100\n",
            "249/249 [==============================] - 6s 24ms/step - loss: 9.9819e-06 - root_mean_squared_error: 0.0032 - val_loss: 0.0296 - val_root_mean_squared_error: 0.1719\n",
            "Epoch 33/100\n",
            "249/249 [==============================] - 7s 27ms/step - loss: 9.9471e-06 - root_mean_squared_error: 0.0032 - val_loss: 0.0297 - val_root_mean_squared_error: 0.1722\n",
            "Epoch 34/100\n",
            "249/249 [==============================] - 6s 24ms/step - loss: 9.6847e-06 - root_mean_squared_error: 0.0031 - val_loss: 0.0300 - val_root_mean_squared_error: 0.1733\n",
            "Epoch 35/100\n",
            "247/249 [============================>.] - ETA: 0s - loss: 9.9117e-06 - root_mean_squared_error: 0.0031"
          ]
        },
        {
          "metadata": {
            "tags": null
          },
          "name": "stderr",
          "output_type": "stream",
          "text": [
            "WARNING:absl:Found untraced functions such as lstm_cell_1_layer_call_fn, lstm_cell_1_layer_call_and_return_conditional_losses while saving (showing 2 of 2). These functions will not be directly callable after loading.\n"
          ]
        },
        {
          "metadata": {
            "tags": null
          },
          "name": "stdout",
          "output_type": "stream",
          "text": [
            "249/249 [==============================] - 13s 51ms/step - loss: 9.9257e-06 - root_mean_squared_error: 0.0032 - val_loss: 0.0284 - val_root_mean_squared_error: 0.1685\n",
            "Epoch 36/100\n",
            "249/249 [==============================] - ETA: 0s - loss: 9.7355e-06 - root_mean_squared_error: 0.0031"
          ]
        },
        {
          "metadata": {
            "tags": null
          },
          "name": "stderr",
          "output_type": "stream",
          "text": [
            "WARNING:absl:Found untraced functions such as lstm_cell_1_layer_call_fn, lstm_cell_1_layer_call_and_return_conditional_losses while saving (showing 2 of 2). These functions will not be directly callable after loading.\n"
          ]
        },
        {
          "metadata": {
            "tags": null
          },
          "name": "stdout",
          "output_type": "stream",
          "text": [
            "249/249 [==============================] - 13s 51ms/step - loss: 9.7355e-06 - root_mean_squared_error: 0.0031 - val_loss: 0.0272 - val_root_mean_squared_error: 0.1650\n",
            "Epoch 37/100\n",
            "249/249 [==============================] - 6s 25ms/step - loss: 1.0187e-05 - root_mean_squared_error: 0.0032 - val_loss: 0.0273 - val_root_mean_squared_error: 0.1652\n",
            "Epoch 38/100\n",
            "248/249 [============================>.] - ETA: 0s - loss: 9.6306e-06 - root_mean_squared_error: 0.0031"
          ]
        },
        {
          "metadata": {
            "tags": null
          },
          "name": "stderr",
          "output_type": "stream",
          "text": [
            "WARNING:absl:Found untraced functions such as lstm_cell_1_layer_call_fn, lstm_cell_1_layer_call_and_return_conditional_losses while saving (showing 2 of 2). These functions will not be directly callable after loading.\n"
          ]
        },
        {
          "metadata": {
            "tags": null
          },
          "name": "stdout",
          "output_type": "stream",
          "text": [
            "249/249 [==============================] - 12s 48ms/step - loss: 9.6233e-06 - root_mean_squared_error: 0.0031 - val_loss: 0.0257 - val_root_mean_squared_error: 0.1602\n",
            "Epoch 39/100\n",
            "249/249 [==============================] - 7s 27ms/step - loss: 9.5659e-06 - root_mean_squared_error: 0.0031 - val_loss: 0.0259 - val_root_mean_squared_error: 0.1609\n",
            "Epoch 40/100\n",
            "248/249 [============================>.] - ETA: 0s - loss: 9.3601e-06 - root_mean_squared_error: 0.0031"
          ]
        },
        {
          "metadata": {
            "tags": null
          },
          "name": "stderr",
          "output_type": "stream",
          "text": [
            "WARNING:absl:Found untraced functions such as lstm_cell_1_layer_call_fn, lstm_cell_1_layer_call_and_return_conditional_losses while saving (showing 2 of 2). These functions will not be directly callable after loading.\n"
          ]
        },
        {
          "metadata": {
            "tags": null
          },
          "name": "stdout",
          "output_type": "stream",
          "text": [
            "249/249 [==============================] - 12s 50ms/step - loss: 9.3563e-06 - root_mean_squared_error: 0.0031 - val_loss: 0.0246 - val_root_mean_squared_error: 0.1569\n",
            "Epoch 41/100\n",
            "249/249 [==============================] - 6s 24ms/step - loss: 9.3651e-06 - root_mean_squared_error: 0.0031 - val_loss: 0.0252 - val_root_mean_squared_error: 0.1588\n",
            "Epoch 42/100\n",
            "248/249 [============================>.] - ETA: 0s - loss: 9.3107e-06 - root_mean_squared_error: 0.0031"
          ]
        },
        {
          "metadata": {
            "tags": null
          },
          "name": "stderr",
          "output_type": "stream",
          "text": [
            "WARNING:absl:Found untraced functions such as lstm_cell_1_layer_call_fn, lstm_cell_1_layer_call_and_return_conditional_losses while saving (showing 2 of 2). These functions will not be directly callable after loading.\n"
          ]
        },
        {
          "metadata": {
            "tags": null
          },
          "name": "stdout",
          "output_type": "stream",
          "text": [
            "249/249 [==============================] - 13s 51ms/step - loss: 9.3033e-06 - root_mean_squared_error: 0.0031 - val_loss: 0.0236 - val_root_mean_squared_error: 0.1535\n",
            "Epoch 43/100\n",
            "248/249 [============================>.] - ETA: 0s - loss: 9.1681e-06 - root_mean_squared_error: 0.0030"
          ]
        },
        {
          "metadata": {
            "tags": null
          },
          "name": "stderr",
          "output_type": "stream",
          "text": [
            "WARNING:absl:Found untraced functions such as lstm_cell_1_layer_call_fn, lstm_cell_1_layer_call_and_return_conditional_losses while saving (showing 2 of 2). These functions will not be directly callable after loading.\n"
          ]
        },
        {
          "metadata": {
            "tags": null
          },
          "name": "stdout",
          "output_type": "stream",
          "text": [
            "249/249 [==============================] - 12s 49ms/step - loss: 9.1698e-06 - root_mean_squared_error: 0.0030 - val_loss: 0.0231 - val_root_mean_squared_error: 0.1520\n",
            "Epoch 44/100\n",
            "248/249 [============================>.] - ETA: 0s - loss: 9.2529e-06 - root_mean_squared_error: 0.0030"
          ]
        },
        {
          "metadata": {
            "tags": null
          },
          "name": "stderr",
          "output_type": "stream",
          "text": [
            "WARNING:absl:Found untraced functions such as lstm_cell_1_layer_call_fn, lstm_cell_1_layer_call_and_return_conditional_losses while saving (showing 2 of 2). These functions will not be directly callable after loading.\n"
          ]
        },
        {
          "metadata": {
            "tags": null
          },
          "name": "stdout",
          "output_type": "stream",
          "text": [
            "249/249 [==============================] - 13s 53ms/step - loss: 9.2593e-06 - root_mean_squared_error: 0.0030 - val_loss: 0.0224 - val_root_mean_squared_error: 0.1496\n",
            "Epoch 45/100\n",
            "249/249 [==============================] - 6s 26ms/step - loss: 8.7863e-06 - root_mean_squared_error: 0.0030 - val_loss: 0.0224 - val_root_mean_squared_error: 0.1498\n",
            "Epoch 46/100\n",
            "248/249 [============================>.] - ETA: 0s - loss: 8.9095e-06 - root_mean_squared_error: 0.0030"
          ]
        },
        {
          "metadata": {
            "tags": null
          },
          "name": "stderr",
          "output_type": "stream",
          "text": [
            "WARNING:absl:Found untraced functions such as lstm_cell_1_layer_call_fn, lstm_cell_1_layer_call_and_return_conditional_losses while saving (showing 2 of 2). These functions will not be directly callable after loading.\n"
          ]
        },
        {
          "metadata": {
            "tags": null
          },
          "name": "stdout",
          "output_type": "stream",
          "text": [
            "249/249 [==============================] - 12s 49ms/step - loss: 8.9038e-06 - root_mean_squared_error: 0.0030 - val_loss: 0.0211 - val_root_mean_squared_error: 0.1452\n",
            "Epoch 47/100\n",
            "247/249 [============================>.] - ETA: 0s - loss: 8.5086e-06 - root_mean_squared_error: 0.0029"
          ]
        },
        {
          "metadata": {
            "tags": null
          },
          "name": "stderr",
          "output_type": "stream",
          "text": [
            "WARNING:absl:Found untraced functions such as lstm_cell_1_layer_call_fn, lstm_cell_1_layer_call_and_return_conditional_losses while saving (showing 2 of 2). These functions will not be directly callable after loading.\n"
          ]
        },
        {
          "metadata": {
            "tags": null
          },
          "name": "stdout",
          "output_type": "stream",
          "text": [
            "249/249 [==============================] - 13s 51ms/step - loss: 8.5475e-06 - root_mean_squared_error: 0.0029 - val_loss: 0.0203 - val_root_mean_squared_error: 0.1425\n",
            "Epoch 48/100\n",
            "249/249 [==============================] - 7s 28ms/step - loss: 8.7794e-06 - root_mean_squared_error: 0.0030 - val_loss: 0.0209 - val_root_mean_squared_error: 0.1446\n",
            "Epoch 49/100\n",
            "249/249 [==============================] - ETA: 0s - loss: 8.6898e-06 - root_mean_squared_error: 0.0029"
          ]
        },
        {
          "metadata": {
            "tags": null
          },
          "name": "stderr",
          "output_type": "stream",
          "text": [
            "WARNING:absl:Found untraced functions such as lstm_cell_1_layer_call_fn, lstm_cell_1_layer_call_and_return_conditional_losses while saving (showing 2 of 2). These functions will not be directly callable after loading.\n"
          ]
        },
        {
          "metadata": {
            "tags": null
          },
          "name": "stdout",
          "output_type": "stream",
          "text": [
            "249/249 [==============================] - 12s 49ms/step - loss: 8.6898e-06 - root_mean_squared_error: 0.0029 - val_loss: 0.0193 - val_root_mean_squared_error: 0.1389\n",
            "Epoch 50/100\n",
            "249/249 [==============================] - 6s 24ms/step - loss: 8.5667e-06 - root_mean_squared_error: 0.0029 - val_loss: 0.0206 - val_root_mean_squared_error: 0.1437\n",
            "Epoch 51/100\n",
            "248/249 [============================>.] - ETA: 0s - loss: 8.4009e-06 - root_mean_squared_error: 0.0029"
          ]
        },
        {
          "metadata": {
            "tags": null
          },
          "name": "stderr",
          "output_type": "stream",
          "text": [
            "WARNING:absl:Found untraced functions such as lstm_cell_1_layer_call_fn, lstm_cell_1_layer_call_and_return_conditional_losses while saving (showing 2 of 2). These functions will not be directly callable after loading.\n"
          ]
        },
        {
          "metadata": {
            "tags": null
          },
          "name": "stdout",
          "output_type": "stream",
          "text": [
            "249/249 [==============================] - 12s 49ms/step - loss: 8.3944e-06 - root_mean_squared_error: 0.0029 - val_loss: 0.0178 - val_root_mean_squared_error: 0.1336\n",
            "Epoch 52/100\n",
            "247/249 [============================>.] - ETA: 0s - loss: 8.1486e-06 - root_mean_squared_error: 0.0029"
          ]
        },
        {
          "metadata": {
            "tags": null
          },
          "name": "stderr",
          "output_type": "stream",
          "text": [
            "WARNING:absl:Found untraced functions such as lstm_cell_1_layer_call_fn, lstm_cell_1_layer_call_and_return_conditional_losses while saving (showing 2 of 2). These functions will not be directly callable after loading.\n"
          ]
        },
        {
          "metadata": {
            "tags": null
          },
          "name": "stdout",
          "output_type": "stream",
          "text": [
            "249/249 [==============================] - 13s 51ms/step - loss: 8.2419e-06 - root_mean_squared_error: 0.0029 - val_loss: 0.0176 - val_root_mean_squared_error: 0.1326\n",
            "Epoch 53/100\n",
            "248/249 [============================>.] - ETA: 0s - loss: 8.2471e-06 - root_mean_squared_error: 0.0029"
          ]
        },
        {
          "metadata": {
            "tags": null
          },
          "name": "stderr",
          "output_type": "stream",
          "text": [
            "WARNING:absl:Found untraced functions such as lstm_cell_1_layer_call_fn, lstm_cell_1_layer_call_and_return_conditional_losses while saving (showing 2 of 2). These functions will not be directly callable after loading.\n"
          ]
        },
        {
          "metadata": {
            "tags": null
          },
          "name": "stdout",
          "output_type": "stream",
          "text": [
            "249/249 [==============================] - 13s 51ms/step - loss: 8.2467e-06 - root_mean_squared_error: 0.0029 - val_loss: 0.0175 - val_root_mean_squared_error: 0.1323\n",
            "Epoch 54/100\n",
            "249/249 [==============================] - ETA: 0s - loss: 8.6521e-06 - root_mean_squared_error: 0.0029"
          ]
        },
        {
          "metadata": {
            "tags": null
          },
          "name": "stderr",
          "output_type": "stream",
          "text": [
            "WARNING:absl:Found untraced functions such as lstm_cell_1_layer_call_fn, lstm_cell_1_layer_call_and_return_conditional_losses while saving (showing 2 of 2). These functions will not be directly callable after loading.\n"
          ]
        },
        {
          "metadata": {
            "tags": null
          },
          "name": "stdout",
          "output_type": "stream",
          "text": [
            "249/249 [==============================] - 12s 49ms/step - loss: 8.6521e-06 - root_mean_squared_error: 0.0029 - val_loss: 0.0158 - val_root_mean_squared_error: 0.1259\n",
            "Epoch 55/100\n",
            "249/249 [==============================] - 6s 25ms/step - loss: 8.1928e-06 - root_mean_squared_error: 0.0029 - val_loss: 0.0161 - val_root_mean_squared_error: 0.1269\n",
            "Epoch 56/100\n",
            "249/249 [==============================] - 7s 28ms/step - loss: 8.0838e-06 - root_mean_squared_error: 0.0028 - val_loss: 0.0161 - val_root_mean_squared_error: 0.1271\n",
            "Epoch 57/100\n",
            "248/249 [============================>.] - ETA: 0s - loss: 7.9947e-06 - root_mean_squared_error: 0.0028"
          ]
        },
        {
          "metadata": {
            "tags": null
          },
          "name": "stderr",
          "output_type": "stream",
          "text": [
            "WARNING:absl:Found untraced functions such as lstm_cell_1_layer_call_fn, lstm_cell_1_layer_call_and_return_conditional_losses while saving (showing 2 of 2). These functions will not be directly callable after loading.\n"
          ]
        },
        {
          "metadata": {
            "tags": null
          },
          "name": "stdout",
          "output_type": "stream",
          "text": [
            "249/249 [==============================] - 12s 49ms/step - loss: 7.9888e-06 - root_mean_squared_error: 0.0028 - val_loss: 0.0148 - val_root_mean_squared_error: 0.1218\n",
            "Epoch 58/100\n",
            "249/249 [==============================] - ETA: 0s - loss: 7.9138e-06 - root_mean_squared_error: 0.0028"
          ]
        },
        {
          "metadata": {
            "tags": null
          },
          "name": "stderr",
          "output_type": "stream",
          "text": [
            "WARNING:absl:Found untraced functions such as lstm_cell_1_layer_call_fn, lstm_cell_1_layer_call_and_return_conditional_losses while saving (showing 2 of 2). These functions will not be directly callable after loading.\n"
          ]
        },
        {
          "metadata": {
            "tags": null
          },
          "name": "stdout",
          "output_type": "stream",
          "text": [
            "249/249 [==============================] - 12s 47ms/step - loss: 7.9138e-06 - root_mean_squared_error: 0.0028 - val_loss: 0.0136 - val_root_mean_squared_error: 0.1167\n",
            "Epoch 59/100\n",
            "248/249 [============================>.] - ETA: 0s - loss: 7.8663e-06 - root_mean_squared_error: 0.0028"
          ]
        },
        {
          "metadata": {
            "tags": null
          },
          "name": "stderr",
          "output_type": "stream",
          "text": [
            "WARNING:absl:Found untraced functions such as lstm_cell_1_layer_call_fn, lstm_cell_1_layer_call_and_return_conditional_losses while saving (showing 2 of 2). These functions will not be directly callable after loading.\n"
          ]
        },
        {
          "metadata": {
            "tags": null
          },
          "name": "stdout",
          "output_type": "stream",
          "text": [
            "249/249 [==============================] - 12s 49ms/step - loss: 7.8632e-06 - root_mean_squared_error: 0.0028 - val_loss: 0.0136 - val_root_mean_squared_error: 0.1165\n",
            "Epoch 60/100\n",
            "249/249 [==============================] - 6s 24ms/step - loss: 8.4105e-06 - root_mean_squared_error: 0.0029 - val_loss: 0.0140 - val_root_mean_squared_error: 0.1185\n",
            "Epoch 61/100\n",
            "249/249 [==============================] - ETA: 0s - loss: 7.5613e-06 - root_mean_squared_error: 0.0027"
          ]
        },
        {
          "metadata": {
            "tags": null
          },
          "name": "stderr",
          "output_type": "stream",
          "text": [
            "WARNING:absl:Found untraced functions such as lstm_cell_1_layer_call_fn, lstm_cell_1_layer_call_and_return_conditional_losses while saving (showing 2 of 2). These functions will not be directly callable after loading.\n"
          ]
        },
        {
          "metadata": {
            "tags": null
          },
          "name": "stdout",
          "output_type": "stream",
          "text": [
            "249/249 [==============================] - 13s 51ms/step - loss: 7.5613e-06 - root_mean_squared_error: 0.0027 - val_loss: 0.0130 - val_root_mean_squared_error: 0.1139\n",
            "Epoch 62/100\n",
            "249/249 [==============================] - ETA: 0s - loss: 7.6556e-06 - root_mean_squared_error: 0.0028"
          ]
        },
        {
          "metadata": {
            "tags": null
          },
          "name": "stderr",
          "output_type": "stream",
          "text": [
            "WARNING:absl:Found untraced functions such as lstm_cell_1_layer_call_fn, lstm_cell_1_layer_call_and_return_conditional_losses while saving (showing 2 of 2). These functions will not be directly callable after loading.\n"
          ]
        },
        {
          "metadata": {
            "tags": null
          },
          "name": "stdout",
          "output_type": "stream",
          "text": [
            "249/249 [==============================] - 12s 49ms/step - loss: 7.6556e-06 - root_mean_squared_error: 0.0028 - val_loss: 0.0122 - val_root_mean_squared_error: 0.1104\n",
            "Epoch 63/100\n",
            "248/249 [============================>.] - ETA: 0s - loss: 7.6070e-06 - root_mean_squared_error: 0.0028"
          ]
        },
        {
          "metadata": {
            "tags": null
          },
          "name": "stderr",
          "output_type": "stream",
          "text": [
            "WARNING:absl:Found untraced functions such as lstm_cell_1_layer_call_fn, lstm_cell_1_layer_call_and_return_conditional_losses while saving (showing 2 of 2). These functions will not be directly callable after loading.\n"
          ]
        },
        {
          "metadata": {
            "tags": null
          },
          "name": "stdout",
          "output_type": "stream",
          "text": [
            "249/249 [==============================] - 13s 51ms/step - loss: 7.6060e-06 - root_mean_squared_error: 0.0028 - val_loss: 0.0111 - val_root_mean_squared_error: 0.1053\n",
            "Epoch 64/100\n",
            "249/249 [==============================] - ETA: 0s - loss: 7.3777e-06 - root_mean_squared_error: 0.0027"
          ]
        },
        {
          "metadata": {
            "tags": null
          },
          "name": "stderr",
          "output_type": "stream",
          "text": [
            "WARNING:absl:Found untraced functions such as lstm_cell_1_layer_call_fn, lstm_cell_1_layer_call_and_return_conditional_losses while saving (showing 2 of 2). These functions will not be directly callable after loading.\n"
          ]
        },
        {
          "metadata": {
            "tags": null
          },
          "name": "stdout",
          "output_type": "stream",
          "text": [
            "249/249 [==============================] - 12s 49ms/step - loss: 7.3777e-06 - root_mean_squared_error: 0.0027 - val_loss: 0.0107 - val_root_mean_squared_error: 0.1035\n",
            "Epoch 65/100\n",
            "249/249 [==============================] - 6s 26ms/step - loss: 7.3379e-06 - root_mean_squared_error: 0.0027 - val_loss: 0.0112 - val_root_mean_squared_error: 0.1059\n",
            "Epoch 66/100\n",
            "248/249 [============================>.] - ETA: 0s - loss: 7.2601e-06 - root_mean_squared_error: 0.0027"
          ]
        },
        {
          "metadata": {
            "tags": null
          },
          "name": "stderr",
          "output_type": "stream",
          "text": [
            "WARNING:absl:Found untraced functions such as lstm_cell_1_layer_call_fn, lstm_cell_1_layer_call_and_return_conditional_losses while saving (showing 2 of 2). These functions will not be directly callable after loading.\n"
          ]
        },
        {
          "metadata": {
            "tags": null
          },
          "name": "stdout",
          "output_type": "stream",
          "text": [
            "249/249 [==============================] - 13s 51ms/step - loss: 7.2557e-06 - root_mean_squared_error: 0.0027 - val_loss: 0.0098 - val_root_mean_squared_error: 0.0991\n",
            "Epoch 67/100\n",
            "249/249 [==============================] - 7s 28ms/step - loss: 7.3344e-06 - root_mean_squared_error: 0.0027 - val_loss: 0.0102 - val_root_mean_squared_error: 0.1012\n",
            "Epoch 68/100\n",
            "247/249 [============================>.] - ETA: 0s - loss: 7.2489e-06 - root_mean_squared_error: 0.0027"
          ]
        },
        {
          "metadata": {
            "tags": null
          },
          "name": "stderr",
          "output_type": "stream",
          "text": [
            "WARNING:absl:Found untraced functions such as lstm_cell_1_layer_call_fn, lstm_cell_1_layer_call_and_return_conditional_losses while saving (showing 2 of 2). These functions will not be directly callable after loading.\n"
          ]
        },
        {
          "metadata": {
            "tags": null
          },
          "name": "stdout",
          "output_type": "stream",
          "text": [
            "249/249 [==============================] - 12s 49ms/step - loss: 7.2234e-06 - root_mean_squared_error: 0.0027 - val_loss: 0.0093 - val_root_mean_squared_error: 0.0967\n",
            "Epoch 69/100\n",
            "248/249 [============================>.] - ETA: 0s - loss: 7.6040e-06 - root_mean_squared_error: 0.0028"
          ]
        },
        {
          "metadata": {
            "tags": null
          },
          "name": "stderr",
          "output_type": "stream",
          "text": [
            "WARNING:absl:Found untraced functions such as lstm_cell_1_layer_call_fn, lstm_cell_1_layer_call_and_return_conditional_losses while saving (showing 2 of 2). These functions will not be directly callable after loading.\n"
          ]
        },
        {
          "metadata": {
            "tags": null
          },
          "name": "stdout",
          "output_type": "stream",
          "text": [
            "249/249 [==============================] - 12s 47ms/step - loss: 7.6029e-06 - root_mean_squared_error: 0.0028 - val_loss: 0.0088 - val_root_mean_squared_error: 0.0939\n",
            "Epoch 70/100\n",
            "247/249 [============================>.] - ETA: 0s - loss: 6.9348e-06 - root_mean_squared_error: 0.0026"
          ]
        },
        {
          "metadata": {
            "tags": null
          },
          "name": "stderr",
          "output_type": "stream",
          "text": [
            "WARNING:absl:Found untraced functions such as lstm_cell_1_layer_call_fn, lstm_cell_1_layer_call_and_return_conditional_losses while saving (showing 2 of 2). These functions will not be directly callable after loading.\n"
          ]
        },
        {
          "metadata": {
            "tags": null
          },
          "name": "stdout",
          "output_type": "stream",
          "text": [
            "249/249 [==============================] - 12s 50ms/step - loss: 6.9158e-06 - root_mean_squared_error: 0.0026 - val_loss: 0.0087 - val_root_mean_squared_error: 0.0930\n",
            "Epoch 71/100\n",
            "247/249 [============================>.] - ETA: 0s - loss: 6.7659e-06 - root_mean_squared_error: 0.0026"
          ]
        },
        {
          "metadata": {
            "tags": null
          },
          "name": "stderr",
          "output_type": "stream",
          "text": [
            "WARNING:absl:Found untraced functions such as lstm_cell_1_layer_call_fn, lstm_cell_1_layer_call_and_return_conditional_losses while saving (showing 2 of 2). These functions will not be directly callable after loading.\n"
          ]
        },
        {
          "metadata": {
            "tags": null
          },
          "name": "stdout",
          "output_type": "stream",
          "text": [
            "249/249 [==============================] - 12s 49ms/step - loss: 6.7565e-06 - root_mean_squared_error: 0.0026 - val_loss: 0.0075 - val_root_mean_squared_error: 0.0866\n",
            "Epoch 72/100\n",
            "248/249 [============================>.] - ETA: 0s - loss: 6.5616e-06 - root_mean_squared_error: 0.0026"
          ]
        },
        {
          "metadata": {
            "tags": null
          },
          "name": "stderr",
          "output_type": "stream",
          "text": [
            "WARNING:absl:Found untraced functions such as lstm_cell_1_layer_call_fn, lstm_cell_1_layer_call_and_return_conditional_losses while saving (showing 2 of 2). These functions will not be directly callable after loading.\n"
          ]
        },
        {
          "metadata": {
            "tags": null
          },
          "name": "stdout",
          "output_type": "stream",
          "text": [
            "249/249 [==============================] - 12s 47ms/step - loss: 6.5689e-06 - root_mean_squared_error: 0.0026 - val_loss: 0.0070 - val_root_mean_squared_error: 0.0838\n",
            "Epoch 73/100\n",
            "248/249 [============================>.] - ETA: 0s - loss: 7.0277e-06 - root_mean_squared_error: 0.0027"
          ]
        },
        {
          "metadata": {
            "tags": null
          },
          "name": "stderr",
          "output_type": "stream",
          "text": [
            "WARNING:absl:Found untraced functions such as lstm_cell_1_layer_call_fn, lstm_cell_1_layer_call_and_return_conditional_losses while saving (showing 2 of 2). These functions will not be directly callable after loading.\n"
          ]
        },
        {
          "metadata": {
            "tags": null
          },
          "name": "stdout",
          "output_type": "stream",
          "text": [
            "249/249 [==============================] - 12s 49ms/step - loss: 7.0246e-06 - root_mean_squared_error: 0.0027 - val_loss: 0.0070 - val_root_mean_squared_error: 0.0834\n",
            "Epoch 74/100\n",
            "248/249 [============================>.] - ETA: 0s - loss: 6.8280e-06 - root_mean_squared_error: 0.0026"
          ]
        },
        {
          "metadata": {
            "tags": null
          },
          "name": "stderr",
          "output_type": "stream",
          "text": [
            "WARNING:absl:Found untraced functions such as lstm_cell_1_layer_call_fn, lstm_cell_1_layer_call_and_return_conditional_losses while saving (showing 2 of 2). These functions will not be directly callable after loading.\n"
          ]
        },
        {
          "metadata": {
            "tags": null
          },
          "name": "stdout",
          "output_type": "stream",
          "text": [
            "249/249 [==============================] - 12s 48ms/step - loss: 6.8259e-06 - root_mean_squared_error: 0.0026 - val_loss: 0.0069 - val_root_mean_squared_error: 0.0833\n",
            "Epoch 75/100\n",
            "249/249 [==============================] - ETA: 0s - loss: 6.7649e-06 - root_mean_squared_error: 0.0026"
          ]
        },
        {
          "metadata": {
            "tags": null
          },
          "name": "stderr",
          "output_type": "stream",
          "text": [
            "WARNING:absl:Found untraced functions such as lstm_cell_1_layer_call_fn, lstm_cell_1_layer_call_and_return_conditional_losses while saving (showing 2 of 2). These functions will not be directly callable after loading.\n"
          ]
        },
        {
          "metadata": {
            "tags": null
          },
          "name": "stdout",
          "output_type": "stream",
          "text": [
            "249/249 [==============================] - 12s 48ms/step - loss: 6.7649e-06 - root_mean_squared_error: 0.0026 - val_loss: 0.0065 - val_root_mean_squared_error: 0.0804\n",
            "Epoch 76/100\n",
            "248/249 [============================>.] - ETA: 0s - loss: 6.6125e-06 - root_mean_squared_error: 0.0026"
          ]
        },
        {
          "metadata": {
            "tags": null
          },
          "name": "stderr",
          "output_type": "stream",
          "text": [
            "WARNING:absl:Found untraced functions such as lstm_cell_1_layer_call_fn, lstm_cell_1_layer_call_and_return_conditional_losses while saving (showing 2 of 2). These functions will not be directly callable after loading.\n"
          ]
        },
        {
          "metadata": {
            "tags": null
          },
          "name": "stdout",
          "output_type": "stream",
          "text": [
            "249/249 [==============================] - 12s 50ms/step - loss: 6.6076e-06 - root_mean_squared_error: 0.0026 - val_loss: 0.0057 - val_root_mean_squared_error: 0.0753\n",
            "Epoch 77/100\n",
            "249/249 [==============================] - ETA: 0s - loss: 6.3473e-06 - root_mean_squared_error: 0.0025"
          ]
        },
        {
          "metadata": {
            "tags": null
          },
          "name": "stderr",
          "output_type": "stream",
          "text": [
            "WARNING:absl:Found untraced functions such as lstm_cell_1_layer_call_fn, lstm_cell_1_layer_call_and_return_conditional_losses while saving (showing 2 of 2). These functions will not be directly callable after loading.\n"
          ]
        },
        {
          "metadata": {
            "tags": null
          },
          "name": "stdout",
          "output_type": "stream",
          "text": [
            "249/249 [==============================] - 13s 50ms/step - loss: 6.3473e-06 - root_mean_squared_error: 0.0025 - val_loss: 0.0053 - val_root_mean_squared_error: 0.0727\n",
            "Epoch 78/100\n",
            "247/249 [============================>.] - ETA: 0s - loss: 6.6124e-06 - root_mean_squared_error: 0.0026"
          ]
        },
        {
          "metadata": {
            "tags": null
          },
          "name": "stderr",
          "output_type": "stream",
          "text": [
            "WARNING:absl:Found untraced functions such as lstm_cell_1_layer_call_fn, lstm_cell_1_layer_call_and_return_conditional_losses while saving (showing 2 of 2). These functions will not be directly callable after loading.\n"
          ]
        },
        {
          "metadata": {
            "tags": null
          },
          "name": "stdout",
          "output_type": "stream",
          "text": [
            "249/249 [==============================] - 12s 49ms/step - loss: 6.6017e-06 - root_mean_squared_error: 0.0026 - val_loss: 0.0046 - val_root_mean_squared_error: 0.0680\n",
            "Epoch 79/100\n",
            "249/249 [==============================] - ETA: 0s - loss: 6.1005e-06 - root_mean_squared_error: 0.0025"
          ]
        },
        {
          "metadata": {
            "tags": null
          },
          "name": "stderr",
          "output_type": "stream",
          "text": [
            "WARNING:absl:Found untraced functions such as lstm_cell_1_layer_call_fn, lstm_cell_1_layer_call_and_return_conditional_losses while saving (showing 2 of 2). These functions will not be directly callable after loading.\n"
          ]
        },
        {
          "metadata": {
            "tags": null
          },
          "name": "stdout",
          "output_type": "stream",
          "text": [
            "249/249 [==============================] - 13s 51ms/step - loss: 6.1005e-06 - root_mean_squared_error: 0.0025 - val_loss: 0.0043 - val_root_mean_squared_error: 0.0653\n",
            "Epoch 80/100\n",
            "249/249 [==============================] - ETA: 0s - loss: 6.1374e-06 - root_mean_squared_error: 0.0025"
          ]
        },
        {
          "metadata": {
            "tags": null
          },
          "name": "stderr",
          "output_type": "stream",
          "text": [
            "WARNING:absl:Found untraced functions such as lstm_cell_1_layer_call_fn, lstm_cell_1_layer_call_and_return_conditional_losses while saving (showing 2 of 2). These functions will not be directly callable after loading.\n"
          ]
        },
        {
          "metadata": {
            "tags": null
          },
          "name": "stdout",
          "output_type": "stream",
          "text": [
            "249/249 [==============================] - 13s 50ms/step - loss: 6.1374e-06 - root_mean_squared_error: 0.0025 - val_loss: 0.0039 - val_root_mean_squared_error: 0.0624\n",
            "Epoch 81/100\n",
            "248/249 [============================>.] - ETA: 0s - loss: 6.1951e-06 - root_mean_squared_error: 0.0025"
          ]
        },
        {
          "metadata": {
            "tags": null
          },
          "name": "stderr",
          "output_type": "stream",
          "text": [
            "WARNING:absl:Found untraced functions such as lstm_cell_1_layer_call_fn, lstm_cell_1_layer_call_and_return_conditional_losses while saving (showing 2 of 2). These functions will not be directly callable after loading.\n"
          ]
        },
        {
          "metadata": {
            "tags": null
          },
          "name": "stdout",
          "output_type": "stream",
          "text": [
            "249/249 [==============================] - 12s 49ms/step - loss: 6.1913e-06 - root_mean_squared_error: 0.0025 - val_loss: 0.0035 - val_root_mean_squared_error: 0.0595\n",
            "Epoch 82/100\n",
            "249/249 [==============================] - ETA: 0s - loss: 6.3045e-06 - root_mean_squared_error: 0.0025"
          ]
        },
        {
          "metadata": {
            "tags": null
          },
          "name": "stderr",
          "output_type": "stream",
          "text": [
            "WARNING:absl:Found untraced functions such as lstm_cell_1_layer_call_fn, lstm_cell_1_layer_call_and_return_conditional_losses while saving (showing 2 of 2). These functions will not be directly callable after loading.\n"
          ]
        },
        {
          "output_type": "stream",
          "name": "stdout",
          "text": [
            "249/249 [==============================] - 13s 51ms/step - loss: 6.3045e-06 - root_mean_squared_error: 0.0025 - val_loss: 0.0033 - val_root_mean_squared_error: 0.0573\n",
            "Epoch 83/100\n",
            "249/249 [==============================] - 7s 27ms/step - loss: 6.1487e-06 - root_mean_squared_error: 0.0025 - val_loss: 0.0037 - val_root_mean_squared_error: 0.0607\n",
            "Epoch 84/100\n",
            "248/249 [============================>.] - ETA: 0s - loss: 6.1038e-06 - root_mean_squared_error: 0.0025"
          ]
        },
        {
          "output_type": "stream",
          "name": "stderr",
          "text": [
            "WARNING:absl:Found untraced functions such as lstm_cell_1_layer_call_fn, lstm_cell_1_layer_call_and_return_conditional_losses while saving (showing 2 of 2). These functions will not be directly callable after loading.\n"
          ]
        },
        {
          "output_type": "stream",
          "name": "stdout",
          "text": [
            "\b\b\b\b\b\b\b\b\b\b\b\b\b\b\b\b\b\b\b\b\b\b\b\b\b\b\b\b\b\b\b\b\b\b\b\b\b\b\b\b\b\b\b\b\b\b\b\b\b\b\b\b\b\b\b\b\b\b\b\b\b\b\b\b\b\b\b\b\b\b\b\b\b\b\b\b\b\b\b\b\b\b\b\b\b\b\b\b\b\b\b\b\b\b\b\b\b\b\b\b\b\b\b\r249/249 [==============================] - 12s 47ms/step - loss: 6.1034e-06 - root_mean_squared_error: 0.0025 - val_loss: 0.0031 - val_root_mean_squared_error: 0.0558\n",
            "Epoch 85/100\n",
            "249/249 [==============================] - ETA: 0s - loss: 5.8809e-06 - root_mean_squared_error: 0.0024"
          ]
        },
        {
          "output_type": "stream",
          "name": "stderr",
          "text": [
            "WARNING:absl:Found untraced functions such as lstm_cell_1_layer_call_fn, lstm_cell_1_layer_call_and_return_conditional_losses while saving (showing 2 of 2). These functions will not be directly callable after loading.\n"
          ]
        },
        {
          "output_type": "stream",
          "name": "stdout",
          "text": [
            "\b\b\b\b\b\b\b\b\b\b\b\b\b\b\b\b\b\b\b\b\b\b\b\b\b\b\b\b\b\b\b\b\b\b\b\b\b\b\b\b\b\b\b\b\b\b\b\b\b\b\b\b\b\b\b\b\b\b\b\b\b\b\b\b\b\b\b\b\b\b\b\b\b\b\b\b\b\b\b\b\b\b\b\b\b\b\b\b\b\b\b\b\b\b\b\b\b\b\b\b\b\b\b\r249/249 [==============================] - 12s 49ms/step - loss: 5.8809e-06 - root_mean_squared_error: 0.0024 - val_loss: 0.0030 - val_root_mean_squared_error: 0.0549\n",
            "Epoch 86/100\n",
            "248/249 [============================>.] - ETA: 0s - loss: 5.8804e-06 - root_mean_squared_error: 0.0024"
          ]
        },
        {
          "output_type": "stream",
          "name": "stderr",
          "text": [
            "WARNING:absl:Found untraced functions such as lstm_cell_1_layer_call_fn, lstm_cell_1_layer_call_and_return_conditional_losses while saving (showing 2 of 2). These functions will not be directly callable after loading.\n"
          ]
        },
        {
          "output_type": "stream",
          "name": "stdout",
          "text": [
            "\b\b\b\b\b\b\b\b\b\b\b\b\b\b\b\b\b\b\b\b\b\b\b\b\b\b\b\b\b\b\b\b\b\b\b\b\b\b\b\b\b\b\b\b\b\b\b\b\b\b\b\b\b\b\b\b\b\b\b\b\b\b\b\b\b\b\b\b\b\b\b\b\b\b\b\b\b\b\b\b\b\b\b\b\b\b\b\b\b\b\b\b\b\b\b\b\b\b\b\b\b\b\b\r249/249 [==============================] - 12s 49ms/step - loss: 5.9125e-06 - root_mean_squared_error: 0.0024 - val_loss: 0.0025 - val_root_mean_squared_error: 0.0502\n",
            "Epoch 87/100\n",
            "249/249 [==============================] - ETA: 0s - loss: 5.8493e-06 - root_mean_squared_error: 0.0024"
          ]
        },
        {
          "output_type": "stream",
          "name": "stderr",
          "text": [
            "WARNING:absl:Found untraced functions such as lstm_cell_1_layer_call_fn, lstm_cell_1_layer_call_and_return_conditional_losses while saving (showing 2 of 2). These functions will not be directly callable after loading.\n"
          ]
        },
        {
          "output_type": "stream",
          "name": "stdout",
          "text": [
            "\b\b\b\b\b\b\b\b\b\b\b\b\b\b\b\b\b\b\b\b\b\b\b\b\b\b\b\b\b\b\b\b\b\b\b\b\b\b\b\b\b\b\b\b\b\b\b\b\b\b\b\b\b\b\b\b\b\b\b\b\b\b\b\b\b\b\b\b\b\b\b\b\b\b\b\b\b\b\b\b\b\b\b\b\b\b\b\b\b\b\b\b\b\b\b\b\b\b\b\b\b\b\b\r249/249 [==============================] - 12s 48ms/step - loss: 5.8493e-06 - root_mean_squared_error: 0.0024 - val_loss: 0.0025 - val_root_mean_squared_error: 0.0496\n",
            "Epoch 88/100\n",
            "247/249 [============================>.] - ETA: 0s - loss: 5.8279e-06 - root_mean_squared_error: 0.0024"
          ]
        },
        {
          "output_type": "stream",
          "name": "stderr",
          "text": [
            "WARNING:absl:Found untraced functions such as lstm_cell_1_layer_call_fn, lstm_cell_1_layer_call_and_return_conditional_losses while saving (showing 2 of 2). These functions will not be directly callable after loading.\n"
          ]
        },
        {
          "output_type": "stream",
          "name": "stdout",
          "text": [
            "\b\b\b\b\b\b\b\b\b\b\b\b\b\b\b\b\b\b\b\b\b\b\b\b\b\b\b\b\b\b\b\b\b\b\b\b\b\b\b\b\b\b\b\b\b\b\b\b\b\b\b\b\b\b\b\b\b\b\b\b\b\b\b\b\b\b\b\b\b\b\b\b\b\b\b\b\b\b\b\b\b\b\b\b\b\b\b\b\b\b\b\b\b\b\b\b\b\b\b\b\b\b\b\r249/249 [==============================] - 12s 50ms/step - loss: 5.8237e-06 - root_mean_squared_error: 0.0024 - val_loss: 0.0024 - val_root_mean_squared_error: 0.0486\n",
            "Epoch 89/100\n",
            "247/249 [============================>.] - ETA: 0s - loss: 5.6856e-06 - root_mean_squared_error: 0.0024"
          ]
        },
        {
          "output_type": "stream",
          "name": "stderr",
          "text": [
            "WARNING:absl:Found untraced functions such as lstm_cell_1_layer_call_fn, lstm_cell_1_layer_call_and_return_conditional_losses while saving (showing 2 of 2). These functions will not be directly callable after loading.\n"
          ]
        },
        {
          "output_type": "stream",
          "name": "stdout",
          "text": [
            "\b\b\b\b\b\b\b\b\b\b\b\b\b\b\b\b\b\b\b\b\b\b\b\b\b\b\b\b\b\b\b\b\b\b\b\b\b\b\b\b\b\b\b\b\b\b\b\b\b\b\b\b\b\b\b\b\b\b\b\b\b\b\b\b\b\b\b\b\b\b\b\b\b\b\b\b\b\b\b\b\b\b\b\b\b\b\b\b\b\b\b\b\b\b\b\b\b\b\b\b\b\b\b\r249/249 [==============================] - 12s 50ms/step - loss: 5.6807e-06 - root_mean_squared_error: 0.0024 - val_loss: 0.0023 - val_root_mean_squared_error: 0.0482\n",
            "Epoch 90/100\n",
            "248/249 [============================>.] - ETA: 0s - loss: 5.9068e-06 - root_mean_squared_error: 0.0024"
          ]
        },
        {
          "output_type": "stream",
          "name": "stderr",
          "text": [
            "WARNING:absl:Found untraced functions such as lstm_cell_1_layer_call_fn, lstm_cell_1_layer_call_and_return_conditional_losses while saving (showing 2 of 2). These functions will not be directly callable after loading.\n"
          ]
        },
        {
          "output_type": "stream",
          "name": "stdout",
          "text": [
            "\b\b\b\b\b\b\b\b\b\b\b\b\b\b\b\b\b\b\b\b\b\b\b\b\b\b\b\b\b\b\b\b\b\b\b\b\b\b\b\b\b\b\b\b\b\b\b\b\b\b\b\b\b\b\b\b\b\b\b\b\b\b\b\b\b\b\b\b\b\b\b\b\b\b\b\b\b\b\b\b\b\b\b\b\b\b\b\b\b\b\b\b\b\b\b\b\b\b\b\b\b\b\b\r249/249 [==============================] - 12s 49ms/step - loss: 5.9040e-06 - root_mean_squared_error: 0.0024 - val_loss: 0.0020 - val_root_mean_squared_error: 0.0448\n",
            "Epoch 91/100\n",
            "248/249 [============================>.] - ETA: 0s - loss: 5.8359e-06 - root_mean_squared_error: 0.0024"
          ]
        },
        {
          "output_type": "stream",
          "name": "stderr",
          "text": [
            "WARNING:absl:Found untraced functions such as lstm_cell_1_layer_call_fn, lstm_cell_1_layer_call_and_return_conditional_losses while saving (showing 2 of 2). These functions will not be directly callable after loading.\n"
          ]
        },
        {
          "output_type": "stream",
          "name": "stdout",
          "text": [
            "\b\b\b\b\b\b\b\b\b\b\b\b\b\b\b\b\b\b\b\b\b\b\b\b\b\b\b\b\b\b\b\b\b\b\b\b\b\b\b\b\b\b\b\b\b\b\b\b\b\b\b\b\b\b\b\b\b\b\b\b\b\b\b\b\b\b\b\b\b\b\b\b\b\b\b\b\b\b\b\b\b\b\b\b\b\b\b\b\b\b\b\b\b\b\b\b\b\b\b\b\b\b\b\r249/249 [==============================] - 13s 51ms/step - loss: 5.8355e-06 - root_mean_squared_error: 0.0024 - val_loss: 0.0019 - val_root_mean_squared_error: 0.0438\n",
            "Epoch 92/100\n",
            "248/249 [============================>.] - ETA: 0s - loss: 5.8896e-06 - root_mean_squared_error: 0.0024"
          ]
        },
        {
          "output_type": "stream",
          "name": "stderr",
          "text": [
            "WARNING:absl:Found untraced functions such as lstm_cell_1_layer_call_fn, lstm_cell_1_layer_call_and_return_conditional_losses while saving (showing 2 of 2). These functions will not be directly callable after loading.\n"
          ]
        },
        {
          "output_type": "stream",
          "name": "stdout",
          "text": [
            "\b\b\b\b\b\b\b\b\b\b\b\b\b\b\b\b\b\b\b\b\b\b\b\b\b\b\b\b\b\b\b\b\b\b\b\b\b\b\b\b\b\b\b\b\b\b\b\b\b\b\b\b\b\b\b\b\b\b\b\b\b\b\b\b\b\b\b\b\b\b\b\b\b\b\b\b\b\b\b\b\b\b\b\b\b\b\b\b\b\b\b\b\b\b\b\b\b\b\b\b\b\b\b\r249/249 [==============================] - 12s 50ms/step - loss: 5.9066e-06 - root_mean_squared_error: 0.0024 - val_loss: 0.0019 - val_root_mean_squared_error: 0.0437\n",
            "Epoch 93/100\n",
            "247/249 [============================>.] - ETA: 0s - loss: 5.7498e-06 - root_mean_squared_error: 0.0024"
          ]
        },
        {
          "output_type": "stream",
          "name": "stderr",
          "text": [
            "WARNING:absl:Found untraced functions such as lstm_cell_1_layer_call_fn, lstm_cell_1_layer_call_and_return_conditional_losses while saving (showing 2 of 2). These functions will not be directly callable after loading.\n"
          ]
        },
        {
          "output_type": "stream",
          "name": "stdout",
          "text": [
            "\b\b\b\b\b\b\b\b\b\b\b\b\b\b\b\b\b\b\b\b\b\b\b\b\b\b\b\b\b\b\b\b\b\b\b\b\b\b\b\b\b\b\b\b\b\b\b\b\b\b\b\b\b\b\b\b\b\b\b\b\b\b\b\b\b\b\b\b\b\b\b\b\b\b\b\b\b\b\b\b\b\b\b\b\b\b\b\b\b\b\b\b\b\b\b\b\b\b\b\b\b\b\b\r249/249 [==============================] - 12s 49ms/step - loss: 5.7520e-06 - root_mean_squared_error: 0.0024 - val_loss: 0.0015 - val_root_mean_squared_error: 0.0384\n",
            "Epoch 94/100\n",
            "249/249 [==============================] - 7s 27ms/step - loss: 5.5164e-06 - root_mean_squared_error: 0.0023 - val_loss: 0.0016 - val_root_mean_squared_error: 0.0395\n",
            "Epoch 95/100\n",
            "249/249 [==============================] - ETA: 0s - loss: 5.7540e-06 - root_mean_squared_error: 0.0024"
          ]
        },
        {
          "output_type": "stream",
          "name": "stderr",
          "text": [
            "WARNING:absl:Found untraced functions such as lstm_cell_1_layer_call_fn, lstm_cell_1_layer_call_and_return_conditional_losses while saving (showing 2 of 2). These functions will not be directly callable after loading.\n"
          ]
        },
        {
          "output_type": "stream",
          "name": "stdout",
          "text": [
            "\b\b\b\b\b\b\b\b\b\b\b\b\b\b\b\b\b\b\b\b\b\b\b\b\b\b\b\b\b\b\b\b\b\b\b\b\b\b\b\b\b\b\b\b\b\b\b\b\b\b\b\b\b\b\b\b\b\b\b\b\b\b\b\b\b\b\b\b\b\b\b\b\b\b\b\b\b\b\b\b\b\b\b\b\b\b\b\b\b\b\b\b\b\b\b\b\b\b\b\b\b\b\b\r249/249 [==============================] - 13s 51ms/step - loss: 5.7540e-06 - root_mean_squared_error: 0.0024 - val_loss: 0.0014 - val_root_mean_squared_error: 0.0379\n",
            "Epoch 96/100\n",
            "249/249 [==============================] - ETA: 0s - loss: 5.6313e-06 - root_mean_squared_error: 0.0024"
          ]
        },
        {
          "output_type": "stream",
          "name": "stderr",
          "text": [
            "WARNING:absl:Found untraced functions such as lstm_cell_1_layer_call_fn, lstm_cell_1_layer_call_and_return_conditional_losses while saving (showing 2 of 2). These functions will not be directly callable after loading.\n"
          ]
        },
        {
          "output_type": "stream",
          "name": "stdout",
          "text": [
            "\b\b\b\b\b\b\b\b\b\b\b\b\b\b\b\b\b\b\b\b\b\b\b\b\b\b\b\b\b\b\b\b\b\b\b\b\b\b\b\b\b\b\b\b\b\b\b\b\b\b\b\b\b\b\b\b\b\b\b\b\b\b\b\b\b\b\b\b\b\b\b\b\b\b\b\b\b\b\b\b\b\b\b\b\b\b\b\b\b\b\b\b\b\b\b\b\b\b\b\b\b\b\b\r249/249 [==============================] - 13s 51ms/step - loss: 5.6313e-06 - root_mean_squared_error: 0.0024 - val_loss: 0.0011 - val_root_mean_squared_error: 0.0336\n",
            "Epoch 97/100\n",
            "249/249 [==============================] - ETA: 0s - loss: 5.6094e-06 - root_mean_squared_error: 0.0024"
          ]
        },
        {
          "output_type": "stream",
          "name": "stderr",
          "text": [
            "WARNING:absl:Found untraced functions such as lstm_cell_1_layer_call_fn, lstm_cell_1_layer_call_and_return_conditional_losses while saving (showing 2 of 2). These functions will not be directly callable after loading.\n"
          ]
        },
        {
          "output_type": "stream",
          "name": "stdout",
          "text": [
            "\b\b\b\b\b\b\b\b\b\b\b\b\b\b\b\b\b\b\b\b\b\b\b\b\b\b\b\b\b\b\b\b\b\b\b\b\b\b\b\b\b\b\b\b\b\b\b\b\b\b\b\b\b\b\b\b\b\b\b\b\b\b\b\b\b\b\b\b\b\b\b\b\b\b\b\b\b\b\b\b\b\b\b\b\b\b\b\b\b\b\b\b\b\b\b\b\b\b\b\b\b\b\b\r249/249 [==============================] - 12s 48ms/step - loss: 5.6094e-06 - root_mean_squared_error: 0.0024 - val_loss: 0.0011 - val_root_mean_squared_error: 0.0334\n",
            "Epoch 98/100\n",
            "249/249 [==============================] - ETA: 0s - loss: 5.3449e-06 - root_mean_squared_error: 0.0023"
          ]
        },
        {
          "output_type": "stream",
          "name": "stderr",
          "text": [
            "WARNING:absl:Found untraced functions such as lstm_cell_1_layer_call_fn, lstm_cell_1_layer_call_and_return_conditional_losses while saving (showing 2 of 2). These functions will not be directly callable after loading.\n"
          ]
        },
        {
          "output_type": "stream",
          "name": "stdout",
          "text": [
            "\b\b\b\b\b\b\b\b\b\b\b\b\b\b\b\b\b\b\b\b\b\b\b\b\b\b\b\b\b\b\b\b\b\b\b\b\b\b\b\b\b\b\b\b\b\b\b\b\b\b\b\b\b\b\b\b\b\b\b\b\b\b\b\b\b\b\b\b\b\b\b\b\b\b\b\b\b\b\b\b\b\b\b\b\b\b\b\b\b\b\b\b\b\b\b\b\b\b\b\b\b\b\b\r249/249 [==============================] - 13s 52ms/step - loss: 5.3449e-06 - root_mean_squared_error: 0.0023 - val_loss: 9.8619e-04 - val_root_mean_squared_error: 0.0314\n",
            "Epoch 99/100\n",
            "248/249 [============================>.] - ETA: 0s - loss: 5.4534e-06 - root_mean_squared_error: 0.0023"
          ]
        },
        {
          "output_type": "stream",
          "name": "stderr",
          "text": [
            "WARNING:absl:Found untraced functions such as lstm_cell_1_layer_call_fn, lstm_cell_1_layer_call_and_return_conditional_losses while saving (showing 2 of 2). These functions will not be directly callable after loading.\n"
          ]
        },
        {
          "output_type": "stream",
          "name": "stdout",
          "text": [
            "\b\b\b\b\b\b\b\b\b\b\b\b\b\b\b\b\b\b\b\b\b\b\b\b\b\b\b\b\b\b\b\b\b\b\b\b\b\b\b\b\b\b\b\b\b\b\b\b\b\b\b\b\b\b\b\b\b\b\b\b\b\b\b\b\b\b\b\b\b\b\b\b\b\b\b\b\b\b\b\b\b\b\b\b\b\b\b\b\b\b\b\b\b\b\b\b\b\b\b\b\b\b\b\r249/249 [==============================] - 13s 51ms/step - loss: 5.4529e-06 - root_mean_squared_error: 0.0023 - val_loss: 9.7069e-04 - val_root_mean_squared_error: 0.0312\n",
            "Epoch 100/100\n",
            "249/249 [==============================] - 7s 28ms/step - loss: 5.4869e-06 - root_mean_squared_error: 0.0023 - val_loss: 9.7563e-04 - val_root_mean_squared_error: 0.0312\n"
          ]
        },
        {
          "output_type": "execute_result",
          "data": {
            "text/plain": [
              "<keras.callbacks.History at 0x7f5edc9ad840>"
            ]
          },
          "metadata": {},
          "execution_count": 21
        }
      ]
    },
    {
      "cell_type": "code",
      "source": [
        "from tensorflow.keras.models import load_model\n",
        "model = load_model('model/')\n"
      ],
      "metadata": {
        "id": "r-FrMOt9tQwF",
        "colab": {
          "base_uri": "https://localhost:8080/"
        },
        "outputId": "420859ce-47ee-4c0e-d8d8-e9d95abb1d5c"
      },
      "execution_count": 22,
      "outputs": [
        {
          "output_type": "stream",
          "name": "stderr",
          "text": [
            "WARNING:tensorflow:Layer lstm will not use cuDNN kernels since it doesn't meet the criteria. It will use a generic GPU kernel as fallback when running on GPU.\n"
          ]
        }
      ]
    },
    {
      "cell_type": "code",
      "source": [
        "test_predictions = model.predict(x_test).flatten()\n",
        "test_results = pd.DataFrame(data={'Test Predictions':test_predictions, 'Actual_value':y_test})\n",
        "test_results"
      ],
      "metadata": {
        "id": "TtOyaAVUo5wq",
        "colab": {
          "base_uri": "https://localhost:8080/",
          "height": 442
        },
        "outputId": "18dd9966-643f-476b-e12a-c0cf5b4da06c"
      },
      "execution_count": 23,
      "outputs": [
        {
          "output_type": "stream",
          "name": "stdout",
          "text": [
            "44/44 [==============================] - 1s 4ms/step\n"
          ]
        },
        {
          "output_type": "execute_result",
          "data": {
            "text/plain": [
              "      Test Predictions  Actual_value\n",
              "0             0.223489      0.225642\n",
              "1             0.224493      0.226109\n",
              "2             0.225414      0.225934\n",
              "3             0.225995      0.225992\n",
              "4             0.226363      0.226867\n",
              "...                ...           ...\n",
              "1388          0.799040      0.832809\n",
              "1389          0.797974      0.821176\n",
              "1390          0.796713      0.802664\n",
              "1391          0.795639      0.860824\n",
              "1392          0.796314      0.888403\n",
              "\n",
              "[1393 rows x 2 columns]"
            ],
            "text/html": [
              "\n",
              "  <div id=\"df-8d62f8ca-a317-453c-9be7-4ae5038f64fe\">\n",
              "    <div class=\"colab-df-container\">\n",
              "      <div>\n",
              "<style scoped>\n",
              "    .dataframe tbody tr th:only-of-type {\n",
              "        vertical-align: middle;\n",
              "    }\n",
              "\n",
              "    .dataframe tbody tr th {\n",
              "        vertical-align: top;\n",
              "    }\n",
              "\n",
              "    .dataframe thead th {\n",
              "        text-align: right;\n",
              "    }\n",
              "</style>\n",
              "<table border=\"1\" class=\"dataframe\">\n",
              "  <thead>\n",
              "    <tr style=\"text-align: right;\">\n",
              "      <th></th>\n",
              "      <th>Test Predictions</th>\n",
              "      <th>Actual_value</th>\n",
              "    </tr>\n",
              "  </thead>\n",
              "  <tbody>\n",
              "    <tr>\n",
              "      <th>0</th>\n",
              "      <td>0.223489</td>\n",
              "      <td>0.225642</td>\n",
              "    </tr>\n",
              "    <tr>\n",
              "      <th>1</th>\n",
              "      <td>0.224493</td>\n",
              "      <td>0.226109</td>\n",
              "    </tr>\n",
              "    <tr>\n",
              "      <th>2</th>\n",
              "      <td>0.225414</td>\n",
              "      <td>0.225934</td>\n",
              "    </tr>\n",
              "    <tr>\n",
              "      <th>3</th>\n",
              "      <td>0.225995</td>\n",
              "      <td>0.225992</td>\n",
              "    </tr>\n",
              "    <tr>\n",
              "      <th>4</th>\n",
              "      <td>0.226363</td>\n",
              "      <td>0.226867</td>\n",
              "    </tr>\n",
              "    <tr>\n",
              "      <th>...</th>\n",
              "      <td>...</td>\n",
              "      <td>...</td>\n",
              "    </tr>\n",
              "    <tr>\n",
              "      <th>1388</th>\n",
              "      <td>0.799040</td>\n",
              "      <td>0.832809</td>\n",
              "    </tr>\n",
              "    <tr>\n",
              "      <th>1389</th>\n",
              "      <td>0.797974</td>\n",
              "      <td>0.821176</td>\n",
              "    </tr>\n",
              "    <tr>\n",
              "      <th>1390</th>\n",
              "      <td>0.796713</td>\n",
              "      <td>0.802664</td>\n",
              "    </tr>\n",
              "    <tr>\n",
              "      <th>1391</th>\n",
              "      <td>0.795639</td>\n",
              "      <td>0.860824</td>\n",
              "    </tr>\n",
              "    <tr>\n",
              "      <th>1392</th>\n",
              "      <td>0.796314</td>\n",
              "      <td>0.888403</td>\n",
              "    </tr>\n",
              "  </tbody>\n",
              "</table>\n",
              "<p>1393 rows × 2 columns</p>\n",
              "</div>\n",
              "      <button class=\"colab-df-convert\" onclick=\"convertToInteractive('df-8d62f8ca-a317-453c-9be7-4ae5038f64fe')\"\n",
              "              title=\"Convert this dataframe to an interactive table.\"\n",
              "              style=\"display:none;\">\n",
              "        \n",
              "  <svg xmlns=\"http://www.w3.org/2000/svg\" height=\"24px\"viewBox=\"0 0 24 24\"\n",
              "       width=\"24px\">\n",
              "    <path d=\"M0 0h24v24H0V0z\" fill=\"none\"/>\n",
              "    <path d=\"M18.56 5.44l.94 2.06.94-2.06 2.06-.94-2.06-.94-.94-2.06-.94 2.06-2.06.94zm-11 1L8.5 8.5l.94-2.06 2.06-.94-2.06-.94L8.5 2.5l-.94 2.06-2.06.94zm10 10l.94 2.06.94-2.06 2.06-.94-2.06-.94-.94-2.06-.94 2.06-2.06.94z\"/><path d=\"M17.41 7.96l-1.37-1.37c-.4-.4-.92-.59-1.43-.59-.52 0-1.04.2-1.43.59L10.3 9.45l-7.72 7.72c-.78.78-.78 2.05 0 2.83L4 21.41c.39.39.9.59 1.41.59.51 0 1.02-.2 1.41-.59l7.78-7.78 2.81-2.81c.8-.78.8-2.07 0-2.86zM5.41 20L4 18.59l7.72-7.72 1.47 1.35L5.41 20z\"/>\n",
              "  </svg>\n",
              "      </button>\n",
              "      \n",
              "  <style>\n",
              "    .colab-df-container {\n",
              "      display:flex;\n",
              "      flex-wrap:wrap;\n",
              "      gap: 12px;\n",
              "    }\n",
              "\n",
              "    .colab-df-convert {\n",
              "      background-color: #E8F0FE;\n",
              "      border: none;\n",
              "      border-radius: 50%;\n",
              "      cursor: pointer;\n",
              "      display: none;\n",
              "      fill: #1967D2;\n",
              "      height: 32px;\n",
              "      padding: 0 0 0 0;\n",
              "      width: 32px;\n",
              "    }\n",
              "\n",
              "    .colab-df-convert:hover {\n",
              "      background-color: #E2EBFA;\n",
              "      box-shadow: 0px 1px 2px rgba(60, 64, 67, 0.3), 0px 1px 3px 1px rgba(60, 64, 67, 0.15);\n",
              "      fill: #174EA6;\n",
              "    }\n",
              "\n",
              "    [theme=dark] .colab-df-convert {\n",
              "      background-color: #3B4455;\n",
              "      fill: #D2E3FC;\n",
              "    }\n",
              "\n",
              "    [theme=dark] .colab-df-convert:hover {\n",
              "      background-color: #434B5C;\n",
              "      box-shadow: 0px 1px 3px 1px rgba(0, 0, 0, 0.15);\n",
              "      filter: drop-shadow(0px 1px 2px rgba(0, 0, 0, 0.3));\n",
              "      fill: #FFFFFF;\n",
              "    }\n",
              "  </style>\n",
              "\n",
              "      <script>\n",
              "        const buttonEl =\n",
              "          document.querySelector('#df-8d62f8ca-a317-453c-9be7-4ae5038f64fe button.colab-df-convert');\n",
              "        buttonEl.style.display =\n",
              "          google.colab.kernel.accessAllowed ? 'block' : 'none';\n",
              "\n",
              "        async function convertToInteractive(key) {\n",
              "          const element = document.querySelector('#df-8d62f8ca-a317-453c-9be7-4ae5038f64fe');\n",
              "          const dataTable =\n",
              "            await google.colab.kernel.invokeFunction('convertToInteractive',\n",
              "                                                     [key], {});\n",
              "          if (!dataTable) return;\n",
              "\n",
              "          const docLinkHtml = 'Like what you see? Visit the ' +\n",
              "            '<a target=\"_blank\" href=https://colab.research.google.com/notebooks/data_table.ipynb>data table notebook</a>'\n",
              "            + ' to learn more about interactive tables.';\n",
              "          element.innerHTML = '';\n",
              "          dataTable['output_type'] = 'display_data';\n",
              "          await google.colab.output.renderOutput(dataTable, element);\n",
              "          const docLink = document.createElement('div');\n",
              "          docLink.innerHTML = docLinkHtml;\n",
              "          element.appendChild(docLink);\n",
              "        }\n",
              "      </script>\n",
              "    </div>\n",
              "  </div>\n",
              "  "
            ]
          },
          "metadata": {},
          "execution_count": 23
        }
      ]
    },
    {
      "cell_type": "code",
      "source": [
        "# this is a combination of both train and test data predicted by the model\n",
        "train_prediction=model.predict(x_train)\n",
        "test_prediction=model.predict(x_test)"
      ],
      "metadata": {
        "colab": {
          "base_uri": "https://localhost:8080/"
        },
        "id": "QhyKhgP4tywm",
        "outputId": "02ae30d5-5a83-4721-c5f0-6d012e3d6644"
      },
      "execution_count": 24,
      "outputs": [
        {
          "output_type": "stream",
          "name": "stdout",
          "text": [
            "249/249 [==============================] - 1s 4ms/step\n",
            "44/44 [==============================] - 0s 4ms/step\n"
          ]
        }
      ]
    },
    {
      "cell_type": "code",
      "source": [
        "#Inverse transform to get actual values\n",
        "train_predict = normalizer.inverse_transform(train_prediction)\n",
        "test_predict = normalizer.inverse_transform(test_prediction)"
      ],
      "metadata": {
        "id": "yqxbofNotcg0"
      },
      "execution_count": 25,
      "outputs": []
    },
    {
      "cell_type": "code",
      "source": [
        "test_predict"
      ],
      "metadata": {
        "colab": {
          "base_uri": "https://localhost:8080/"
        },
        "id": "yIcmLhRjuhBK",
        "outputId": "8053cb58-4991-4948-9032-b25b2ac7b8d0"
      },
      "execution_count": 26,
      "outputs": [
        {
          "data": {
            "text/plain": [
              "array([[ 76.75144 ],\n",
              "       [ 77.095924],\n",
              "       [ 77.41164 ],\n",
              "       ...,\n",
              "       [273.37866 ],\n",
              "       [273.0102  ],\n",
              "       [273.24167 ]], dtype=float32)"
            ]
          },
          "execution_count": 26,
          "metadata": {},
          "output_type": "execute_result"
        }
      ]
    },
    {
      "cell_type": "code",
      "source": [
        "# combining both train and test predictions of the model\n",
        "testdata = np.vstack((train_predict,test_predict))"
      ],
      "metadata": {
        "id": "3mBk4ZcjujOI"
      },
      "execution_count": 27,
      "outputs": []
    },
    {
      "cell_type": "code",
      "source": [
        "#comparing the original dataset and the generated data by the model\n",
        "plt.plot(normalizer.inverse_transform(data_scaled))\n",
        "plt.plot(testdata)"
      ],
      "metadata": {
        "id": "6mpWu2bq27gX",
        "colab": {
          "base_uri": "https://localhost:8080/",
          "height": 448
        },
        "outputId": "fcf85c88-9102-4a69-b54e-b5614b39dba0"
      },
      "execution_count": 28,
      "outputs": [
        {
          "data": {
            "text/plain": [
              "[<matplotlib.lines.Line2D at 0x7f5e4b08ec80>]"
            ]
          },
          "execution_count": 28,
          "metadata": {},
          "output_type": "execute_result"
        },
        {
          "output_type": "display_data",
          "data": {
            "text/plain": [
              "<Figure size 640x480 with 1 Axes>"
            ],
            "image/png": "[encoded data removed]"
          },
          "metadata": {}
        }
      ]
    },
    {
      "cell_type": "markdown",
      "source": [
        "# Make predictions for the next 30 days"
      ],
      "metadata": {
        "id": "Vv7WtfpA7nV7"
      }
    },
    {
      "cell_type": "code",
      "source": [
        "len(data_test)"
      ],
      "metadata": {
        "colab": {
          "base_uri": "https://localhost:8080/"
        },
        "id": "Z5izycLH8zMR",
        "outputId": "9e0a9742-6e94-4ecb-e0d1-19eb9ad7e3c0"
      },
      "execution_count": 29,
      "outputs": [
        {
          "data": {
            "text/plain": [
              "1404"
            ]
          },
          "execution_count": 29,
          "metadata": {},
          "output_type": "execute_result"
        }
      ]
    },
    {
      "cell_type": "code",
      "source": [
        "#find the last 10 days records\n",
        "last_val = data_test[1304:]\n",
        "last_val=last_val.reshape(1,-1)"
      ],
      "metadata": {
        "id": "Dwu6xpTr8UhJ"
      },
      "execution_count": 30,
      "outputs": []
    },
    {
      "cell_type": "code",
      "source": [
        "last_val.shape"
      ],
      "metadata": {
        "colab": {
          "base_uri": "https://localhost:8080/"
        },
        "id": "QUCf6_6E_kpM",
        "outputId": "44f46420-f398-4ecb-daea-939b560757f6"
      },
      "execution_count": 31,
      "outputs": [
        {
          "data": {
            "text/plain": [
              "(1, 100)"
            ]
          },
          "execution_count": 31,
          "metadata": {},
          "output_type": "execute_result"
        }
      ]
    },
    {
      "cell_type": "code",
      "source": [
        "# converting last_val to a list\n",
        "list_last_val=list(last_val)"
      ],
      "metadata": {
        "id": "dPhUBFWF9ss2"
      },
      "execution_count": 32,
      "outputs": []
    },
    {
      "cell_type": "code",
      "source": [
        "list_last_val = list_last_val[0].tolist()"
      ],
      "metadata": {
        "id": "uuiUAR9Y_IQ-"
      },
      "execution_count": 33,
      "outputs": []
    },
    {
      "cell_type": "code",
      "source": [
        "#Predicting next 30 days price using the current data\n",
        "#It will predict in a sliding window manner \n",
        "lst_output=[]\n",
        "n_steps=100\n",
        "i=0\n",
        "while(i<30):\n",
        "    \n",
        "    if(len(list_last_val)>100):\n",
        "        last_val = np.array(list_last_val[1:])\n",
        "        last_val=last_val.reshape(1,-1)\n",
        "        last_val = last_val.reshape((1, n_steps, 1))\n",
        "        yhat = model.predict(last_val, verbose=0)\n",
        "        list_last_val.extend(yhat[0].tolist())\n",
        "        list_last_val = list_last_val[1:]\n",
        "        lst_output.extend(yhat.tolist())\n",
        "        i=i+1\n",
        "    else:\n",
        "        last_val = last_val.reshape((1, n_steps,1))\n",
        "        yhat = model.predict(last_val, verbose=0)\n",
        "        list_last_val.extend(yhat[0].tolist())\n",
        "        lst_output.extend(yhat.tolist())\n",
        "        i=i+1\n",
        "    \n",
        "\n",
        "print(lst_output)"
      ],
      "metadata": {
        "colab": {
          "base_uri": "https://localhost:8080/"
        },
        "id": "Xv6Xu-zLAZxY",
        "outputId": "cb02b9b4-82ec-4db2-cb40-f82f4576ea80"
      },
      "execution_count": 34,
      "outputs": [
        {
          "output_type": "stream",
          "name": "stdout",
          "text": [
            "[[0.897819459438324], [0.9215214252471924], [0.9515624642372131], [0.9898741245269775], [1.0326462984085083], [1.051856517791748], [1.0735752582550049], [1.0971674919128418], [1.1222236156463623], [1.1484856605529785], [1.1757928133010864], [1.204012155532837], [1.2330262660980225], [1.2627177238464355], [1.2866464853286743], [1.3034237623214722], [1.3197990655899048], [1.335599660873413], [1.3507753610610962], [1.3653459548950195], [1.3793730735778809], [1.3929330110549927], [1.406097650527954], [1.4189242124557495], [1.4314501285552979], [1.4436975717544556], [1.4556854963302612], [1.4674458503723145], [1.4789724349975586], [1.4902456998825073]]\n"
          ]
        }
      ]
    },
    {
      "cell_type": "markdown",
      "source": [
        "### Plotting the dataset alongside the new predictions "
      ],
      "metadata": {
        "id": "59qzk5mKQNCU"
      }
    },
    {
      "cell_type": "code",
      "source": [
        "#Inverse transform to get actual values\n",
        "new_prediction = normalizer.inverse_transform(lst_output)\n"
      ],
      "metadata": {
        "id": "1W72KUFKVB-W"
      },
      "execution_count": 35,
      "outputs": []
    },
    {
      "cell_type": "code",
      "source": [
        "new_prediction"
      ],
      "metadata": {
        "colab": {
          "base_uri": "https://localhost:8080/"
        },
        "id": "K9qO-XHObnXG",
        "outputId": "a31717e9-26f0-485d-ef96-a7889a80c4cc"
      },
      "execution_count": 36,
      "outputs": [
        {
          "output_type": "execute_result",
          "data": {
            "text/plain": [
              "array([[308.06004592],\n",
              "       [316.19028728],\n",
              "       [326.49495567],\n",
              "       [339.63661016],\n",
              "       [354.30830871],\n",
              "       [360.89779254],\n",
              "       [368.34774853],\n",
              "       [376.44034961],\n",
              "       [385.03509383],\n",
              "       [394.04349278],\n",
              "       [403.41038431],\n",
              "       [413.09017482],\n",
              "       [423.04258652],\n",
              "       [433.22734166],\n",
              "       [441.43537841],\n",
              "       [447.19031505],\n",
              "       [452.80736678],\n",
              "       [458.22728234],\n",
              "       [463.43284657],\n",
              "       [468.4308474 ],\n",
              "       [473.24242554],\n",
              "       [477.89375132],\n",
              "       [482.4094821 ],\n",
              "       [486.80924561],\n",
              "       [491.10588168],\n",
              "       [495.30699606],\n",
              "       [499.41909044],\n",
              "       [503.45312363],\n",
              "       [507.40696931],\n",
              "       [511.27392133]])"
            ]
          },
          "metadata": {},
          "execution_count": 36
        }
      ]
    },
    {
      "cell_type": "code",
      "source": [
        "#Creating a dummy plane to plot graph one after another\n",
        "nu=(len(testdata))\n",
        "plot_new=np.arange(0,nu)\n",
        "plot_pred=np.arange((nu+1),(nu+31))"
      ],
      "metadata": {
        "id": "7MSznJReY9ay"
      },
      "execution_count": 37,
      "outputs": []
    },
    {
      "cell_type": "code",
      "source": [
        "print(len(testdata))"
      ],
      "metadata": {
        "colab": {
          "base_uri": "https://localhost:8080/"
        },
        "id": "FedtQTBbZ9p7",
        "outputId": "9a5c4499-18e5-4067-bbde-ecb50c81d642"
      },
      "execution_count": 38,
      "outputs": [
        {
          "metadata": {
            "tags": null
          },
          "name": "stdout",
          "output_type": "stream",
          "text": [
            "9336\n"
          ]
        }
      ]
    },
    {
      "cell_type": "code",
      "source": [
        "plt.plot(plot_new, testdata)\n",
        "plt.plot(plot_pred, new_prediction)"
      ],
      "metadata": {
        "colab": {
          "base_uri": "https://localhost:8080/",
          "height": 448
        },
        "id": "9BWbrVwKX9cY",
        "outputId": "87c3e1fe-0133-40da-e0f9-3e525269973e"
      },
      "execution_count": 39,
      "outputs": [
        {
          "output_type": "execute_result",
          "data": {
            "text/plain": [
              "[<matplotlib.lines.Line2D at 0x7f5e4b5a4dc0>]"
            ]
          },
          "metadata": {},
          "execution_count": 39
        },
        {
          "output_type": "display_data",
          "data": {
            "text/plain": [
              "<Figure size 640x480 with 1 Axes>"
            ],
            "image/png": "[encoded data removed]"
          },
          "metadata": {}
        }
      ]
    },
    {
      "cell_type": "code",
      "source": [
        "# Combining the predicted values into the graph\n",
        "#Entends helps us to fill the missing value with approx value\n",
        "new_data = data_scaled.tolist()\n",
        "new_data.extend(lst_output)\n",
        "plt.plot(new_data[nu:])"
      ],
      "metadata": {
        "colab": {
          "base_uri": "https://localhost:8080/",
          "height": 448
        },
        "id": "GYTTMCo2aHg8",
        "outputId": "0a32b6b8-5c2b-44b5-e269-8c15b53b74db"
      },
      "execution_count": 40,
      "outputs": [
        {
          "output_type": "execute_result",
          "data": {
            "text/plain": [
              "[<matplotlib.lines.Line2D at 0x7f5e4b59d120>]"
            ]
          },
          "metadata": {},
          "execution_count": 40
        },
        {
          "output_type": "display_data",
          "data": {
            "text/plain": [
              "<Figure size 640x480 with 1 Axes>"
            ],
            "image/png": "[encoded data removed]"
          },
          "metadata": {}
        }
      ]
    },
    {
      "cell_type": "code",
      "source": [
        "#Creating final data for plotting\n",
        "final_graph = normalizer.inverse_transform(new_data).tolist()\n"
      ],
      "metadata": {
        "id": "TriOeKE2km6C"
      },
      "execution_count": 41,
      "outputs": []
    },
    {
      "cell_type": "code",
      "source": [
        "#Plotting final results with predicted value after 30 Days\n",
        "plt.plot(final_graph,)\n",
        "plt.ylabel(\"Price\")\n",
        "plt.xlabel(\"Time\")\n"
      ],
      "metadata": {
        "colab": {
          "base_uri": "https://localhost:8080/",
          "height": 467
        },
        "id": "McdrQMM9kz5H",
        "outputId": "f718f461-6207-40a4-98c5-8673b0da1924"
      },
      "execution_count": 42,
      "outputs": [
        {
          "output_type": "execute_result",
          "data": {
            "text/plain": [
              "Text(0.5, 0, 'Time')"
            ]
          },
          "metadata": {},
          "execution_count": 42
        },
        {
          "output_type": "display_data",
          "data": {
            "text/plain": [
              "<Figure size 640x480 with 1 Axes>"
            ],
            "image/png": "[encoded data removed]"
          },
          "metadata": {}
        }
      ]
    },
    {
      "cell_type": "markdown",
      "source": [
        "### From the above graph we can notice a hike in the stock price"
      ],
      "metadata": {
        "id": "XTxfK5XgWMwc"
      }
    }
  ]
}